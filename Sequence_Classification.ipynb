{
  "cells": [
    {
      "cell_type": "markdown",
      "metadata": {
        "id": "view-in-github",
        "colab_type": "text"
      },
      "source": [
        "<a href=\"https://colab.research.google.com/github/Manal12449/Test8/blob/main/Sequence_Classification.ipynb\" target=\"_parent\"><img src=\"https://colab.research.google.com/assets/colab-badge.svg\" alt=\"Open In Colab\"/></a>"
      ]
    },
    {
      "cell_type": "markdown",
      "id": "6338e9cf",
      "metadata": {
        "id": "6338e9cf"
      },
      "source": [
        "# Fine-tuning a Sequence Classification Model Exam"
      ]
    },
    {
      "cell_type": "code",
      "source": [],
      "metadata": {
        "id": "ZlbY_SLZd9d4"
      },
      "id": "ZlbY_SLZd9d4",
      "execution_count": null,
      "outputs": []
    },
    {
      "cell_type": "markdown",
      "id": "cc78efcc",
      "metadata": {
        "id": "cc78efcc"
      },
      "source": [
        "In this exam, you will be tasked with performing dataset preprocessing and fine-tuning a model for sequence classification. Complete each step carefully according to the instructions provided.\n",
        "\n",
        "### Model and Dataset Information\n",
        "\n",
        "For this task, you will be working with the following:\n",
        "\n",
        "- **Model Checkpoint**: Use the pre-trained model checkpoint `aubmindlab/bert-base-arabertv02` for both the model and tokenizer.\n",
        "- **Dataset**: You will be using the `CUTD/sanad_df` dataset. Ensure to load and preprocess the dataset correctly for training and evaluation.\n",
        "\n",
        "**Note:**\n",
        "- Any additional steps or methods you include that improve or enhance the results will be rewarded with bonus points if they are justified.\n",
        "- The steps outlined here are suggestions. You are free to implement alternative methods or approaches to achieve the task, as long as you explain the reasoning and the process at the bottom of the notebook.\n",
        "- You can use either TensorFlow or PyTorch for this task. If you prefer TensorFlow, feel free to use it when working with Hugging Face Transformers.\n",
        "- The number of data samples you choose to work with is flexible. However, if you select a very low number of samples and the training time is too short, this could affect the evaluation of your work."
      ]
    },
    {
      "cell_type": "markdown",
      "id": "e4aded80",
      "metadata": {
        "id": "e4aded80"
      },
      "source": [
        "## Step 1: Load the Dataset"
      ]
    },
    {
      "cell_type": "markdown",
      "id": "d54930f9",
      "metadata": {
        "id": "d54930f9"
      },
      "source": [
        "Load the dataset and split it into training and test sets. Use 20% of the data for testing."
      ]
    },
    {
      "cell_type": "code",
      "source": [
        "from transformers import pipeline\n",
        "import pandas as pd\n",
        "from sklearn.model_selection import train_test_split\n"
      ],
      "metadata": {
        "id": "W9mPXcijKO6Z"
      },
      "id": "W9mPXcijKO6Z",
      "execution_count": 4,
      "outputs": []
    },
    {
      "cell_type": "code",
      "source": [
        "\n",
        "\n",
        "!pip install datasets\n"
      ],
      "metadata": {
        "colab": {
          "base_uri": "https://localhost:8080/"
        },
        "id": "67wfYIYeKb6x",
        "outputId": "57c3d5a4-6269-49e4-f45a-d85f5134a3a7"
      },
      "id": "67wfYIYeKb6x",
      "execution_count": 5,
      "outputs": [
        {
          "output_type": "stream",
          "name": "stdout",
          "text": [
            "Requirement already satisfied: datasets in /usr/local/lib/python3.10/dist-packages (3.0.0)\n",
            "Requirement already satisfied: filelock in /usr/local/lib/python3.10/dist-packages (from datasets) (3.16.0)\n",
            "Requirement already satisfied: numpy>=1.17 in /usr/local/lib/python3.10/dist-packages (from datasets) (1.26.4)\n",
            "Requirement already satisfied: pyarrow>=15.0.0 in /usr/local/lib/python3.10/dist-packages (from datasets) (17.0.0)\n",
            "Requirement already satisfied: dill<0.3.9,>=0.3.0 in /usr/local/lib/python3.10/dist-packages (from datasets) (0.3.8)\n",
            "Requirement already satisfied: pandas in /usr/local/lib/python3.10/dist-packages (from datasets) (2.1.4)\n",
            "Requirement already satisfied: requests>=2.32.2 in /usr/local/lib/python3.10/dist-packages (from datasets) (2.32.3)\n",
            "Requirement already satisfied: tqdm>=4.66.3 in /usr/local/lib/python3.10/dist-packages (from datasets) (4.66.5)\n",
            "Requirement already satisfied: xxhash in /usr/local/lib/python3.10/dist-packages (from datasets) (3.5.0)\n",
            "Requirement already satisfied: multiprocess in /usr/local/lib/python3.10/dist-packages (from datasets) (0.70.16)\n",
            "Requirement already satisfied: fsspec<=2024.6.1,>=2023.1.0 in /usr/local/lib/python3.10/dist-packages (from fsspec[http]<=2024.6.1,>=2023.1.0->datasets) (2024.6.1)\n",
            "Requirement already satisfied: aiohttp in /usr/local/lib/python3.10/dist-packages (from datasets) (3.10.5)\n",
            "Requirement already satisfied: huggingface-hub>=0.22.0 in /usr/local/lib/python3.10/dist-packages (from datasets) (0.24.6)\n",
            "Requirement already satisfied: packaging in /usr/local/lib/python3.10/dist-packages (from datasets) (24.1)\n",
            "Requirement already satisfied: pyyaml>=5.1 in /usr/local/lib/python3.10/dist-packages (from datasets) (6.0.2)\n",
            "Requirement already satisfied: aiohappyeyeballs>=2.3.0 in /usr/local/lib/python3.10/dist-packages (from aiohttp->datasets) (2.4.0)\n",
            "Requirement already satisfied: aiosignal>=1.1.2 in /usr/local/lib/python3.10/dist-packages (from aiohttp->datasets) (1.3.1)\n",
            "Requirement already satisfied: attrs>=17.3.0 in /usr/local/lib/python3.10/dist-packages (from aiohttp->datasets) (24.2.0)\n",
            "Requirement already satisfied: frozenlist>=1.1.1 in /usr/local/lib/python3.10/dist-packages (from aiohttp->datasets) (1.4.1)\n",
            "Requirement already satisfied: multidict<7.0,>=4.5 in /usr/local/lib/python3.10/dist-packages (from aiohttp->datasets) (6.1.0)\n",
            "Requirement already satisfied: yarl<2.0,>=1.0 in /usr/local/lib/python3.10/dist-packages (from aiohttp->datasets) (1.11.1)\n",
            "Requirement already satisfied: async-timeout<5.0,>=4.0 in /usr/local/lib/python3.10/dist-packages (from aiohttp->datasets) (4.0.3)\n",
            "Requirement already satisfied: typing-extensions>=3.7.4.3 in /usr/local/lib/python3.10/dist-packages (from huggingface-hub>=0.22.0->datasets) (4.12.2)\n",
            "Requirement already satisfied: charset-normalizer<4,>=2 in /usr/local/lib/python3.10/dist-packages (from requests>=2.32.2->datasets) (3.3.2)\n",
            "Requirement already satisfied: idna<4,>=2.5 in /usr/local/lib/python3.10/dist-packages (from requests>=2.32.2->datasets) (3.8)\n",
            "Requirement already satisfied: urllib3<3,>=1.21.1 in /usr/local/lib/python3.10/dist-packages (from requests>=2.32.2->datasets) (2.0.7)\n",
            "Requirement already satisfied: certifi>=2017.4.17 in /usr/local/lib/python3.10/dist-packages (from requests>=2.32.2->datasets) (2024.8.30)\n",
            "Requirement already satisfied: python-dateutil>=2.8.2 in /usr/local/lib/python3.10/dist-packages (from pandas->datasets) (2.8.2)\n",
            "Requirement already satisfied: pytz>=2020.1 in /usr/local/lib/python3.10/dist-packages (from pandas->datasets) (2024.2)\n",
            "Requirement already satisfied: tzdata>=2022.1 in /usr/local/lib/python3.10/dist-packages (from pandas->datasets) (2024.1)\n",
            "Requirement already satisfied: six>=1.5 in /usr/local/lib/python3.10/dist-packages (from python-dateutil>=2.8.2->pandas->datasets) (1.16.0)\n"
          ]
        }
      ]
    },
    {
      "cell_type": "code",
      "execution_count": 6,
      "id": "ef64e03c",
      "metadata": {
        "colab": {
          "base_uri": "https://localhost:8080/"
        },
        "id": "ef64e03c",
        "outputId": "094f4c25-6db9-4217-f9c7-40ec46cce56b"
      },
      "outputs": [
        {
          "output_type": "stream",
          "name": "stderr",
          "text": [
            "/usr/local/lib/python3.10/dist-packages/huggingface_hub/utils/_token.py:89: UserWarning: \n",
            "The secret `HF_TOKEN` does not exist in your Colab secrets.\n",
            "To authenticate with the Hugging Face Hub, create a token in your settings tab (https://huggingface.co/settings/tokens), set it as secret in your Google Colab and restart your session.\n",
            "You will be able to reuse this secret in all of your notebooks.\n",
            "Please note that authentication is recommended but still optional to access public models or datasets.\n",
            "  warnings.warn(\n"
          ]
        }
      ],
      "source": [
        "from datasets import load_dataset\n",
        "\n",
        "ds = load_dataset(\"CUTD/sanad_df\")"
      ]
    },
    {
      "cell_type": "code",
      "source": [
        "df = pd.DataFrame(ds['train'])"
      ],
      "metadata": {
        "id": "7U_0cVXpyf1g"
      },
      "id": "7U_0cVXpyf1g",
      "execution_count": 9,
      "outputs": []
    },
    {
      "cell_type": "code",
      "source": [
        "df.head()"
      ],
      "metadata": {
        "colab": {
          "base_uri": "https://localhost:8080/",
          "height": 206
        },
        "id": "AoR4A_6nN9x9",
        "outputId": "adc5e806-4bca-45b7-e113-faa5ae4f732d"
      },
      "id": "AoR4A_6nN9x9",
      "execution_count": 10,
      "outputs": [
        {
          "output_type": "execute_result",
          "data": {
            "text/plain": [
              "   Unnamed: 0                                               text    label\n",
              "0           0  الشارقة - محمد ولد محمد سالمعرضت مساء أمس الأو...  Culture\n",
              "1           1  عبدالحكيم الزبيدي شاعر وقاص وناقد، جاءت نصوصه ...  Culture\n",
              "2           2  انطلقت في مثل هذه الأيام من العام الفائت فعالي...  Culture\n",
              "3           3  أقيمت مساء أمس الأول في إكسبو الشارقة ندوة حوا...  Culture\n",
              "4           4  باسمة يونس حينما قال صاحب السموّ الشيخ الدكتور...  Culture"
            ],
            "text/html": [
              "\n",
              "  <div id=\"df-6983dc88-7895-45fd-8979-d9a0b1d31536\" class=\"colab-df-container\">\n",
              "    <div>\n",
              "<style scoped>\n",
              "    .dataframe tbody tr th:only-of-type {\n",
              "        vertical-align: middle;\n",
              "    }\n",
              "\n",
              "    .dataframe tbody tr th {\n",
              "        vertical-align: top;\n",
              "    }\n",
              "\n",
              "    .dataframe thead th {\n",
              "        text-align: right;\n",
              "    }\n",
              "</style>\n",
              "<table border=\"1\" class=\"dataframe\">\n",
              "  <thead>\n",
              "    <tr style=\"text-align: right;\">\n",
              "      <th></th>\n",
              "      <th>Unnamed: 0</th>\n",
              "      <th>text</th>\n",
              "      <th>label</th>\n",
              "    </tr>\n",
              "  </thead>\n",
              "  <tbody>\n",
              "    <tr>\n",
              "      <th>0</th>\n",
              "      <td>0</td>\n",
              "      <td>الشارقة - محمد ولد محمد سالمعرضت مساء أمس الأو...</td>\n",
              "      <td>Culture</td>\n",
              "    </tr>\n",
              "    <tr>\n",
              "      <th>1</th>\n",
              "      <td>1</td>\n",
              "      <td>عبدالحكيم الزبيدي شاعر وقاص وناقد، جاءت نصوصه ...</td>\n",
              "      <td>Culture</td>\n",
              "    </tr>\n",
              "    <tr>\n",
              "      <th>2</th>\n",
              "      <td>2</td>\n",
              "      <td>انطلقت في مثل هذه الأيام من العام الفائت فعالي...</td>\n",
              "      <td>Culture</td>\n",
              "    </tr>\n",
              "    <tr>\n",
              "      <th>3</th>\n",
              "      <td>3</td>\n",
              "      <td>أقيمت مساء أمس الأول في إكسبو الشارقة ندوة حوا...</td>\n",
              "      <td>Culture</td>\n",
              "    </tr>\n",
              "    <tr>\n",
              "      <th>4</th>\n",
              "      <td>4</td>\n",
              "      <td>باسمة يونس حينما قال صاحب السموّ الشيخ الدكتور...</td>\n",
              "      <td>Culture</td>\n",
              "    </tr>\n",
              "  </tbody>\n",
              "</table>\n",
              "</div>\n",
              "    <div class=\"colab-df-buttons\">\n",
              "\n",
              "  <div class=\"colab-df-container\">\n",
              "    <button class=\"colab-df-convert\" onclick=\"convertToInteractive('df-6983dc88-7895-45fd-8979-d9a0b1d31536')\"\n",
              "            title=\"Convert this dataframe to an interactive table.\"\n",
              "            style=\"display:none;\">\n",
              "\n",
              "  <svg xmlns=\"http://www.w3.org/2000/svg\" height=\"24px\" viewBox=\"0 -960 960 960\">\n",
              "    <path d=\"M120-120v-720h720v720H120Zm60-500h600v-160H180v160Zm220 220h160v-160H400v160Zm0 220h160v-160H400v160ZM180-400h160v-160H180v160Zm440 0h160v-160H620v160ZM180-180h160v-160H180v160Zm440 0h160v-160H620v160Z\"/>\n",
              "  </svg>\n",
              "    </button>\n",
              "\n",
              "  <style>\n",
              "    .colab-df-container {\n",
              "      display:flex;\n",
              "      gap: 12px;\n",
              "    }\n",
              "\n",
              "    .colab-df-convert {\n",
              "      background-color: #E8F0FE;\n",
              "      border: none;\n",
              "      border-radius: 50%;\n",
              "      cursor: pointer;\n",
              "      display: none;\n",
              "      fill: #1967D2;\n",
              "      height: 32px;\n",
              "      padding: 0 0 0 0;\n",
              "      width: 32px;\n",
              "    }\n",
              "\n",
              "    .colab-df-convert:hover {\n",
              "      background-color: #E2EBFA;\n",
              "      box-shadow: 0px 1px 2px rgba(60, 64, 67, 0.3), 0px 1px 3px 1px rgba(60, 64, 67, 0.15);\n",
              "      fill: #174EA6;\n",
              "    }\n",
              "\n",
              "    .colab-df-buttons div {\n",
              "      margin-bottom: 4px;\n",
              "    }\n",
              "\n",
              "    [theme=dark] .colab-df-convert {\n",
              "      background-color: #3B4455;\n",
              "      fill: #D2E3FC;\n",
              "    }\n",
              "\n",
              "    [theme=dark] .colab-df-convert:hover {\n",
              "      background-color: #434B5C;\n",
              "      box-shadow: 0px 1px 3px 1px rgba(0, 0, 0, 0.15);\n",
              "      filter: drop-shadow(0px 1px 2px rgba(0, 0, 0, 0.3));\n",
              "      fill: #FFFFFF;\n",
              "    }\n",
              "  </style>\n",
              "\n",
              "    <script>\n",
              "      const buttonEl =\n",
              "        document.querySelector('#df-6983dc88-7895-45fd-8979-d9a0b1d31536 button.colab-df-convert');\n",
              "      buttonEl.style.display =\n",
              "        google.colab.kernel.accessAllowed ? 'block' : 'none';\n",
              "\n",
              "      async function convertToInteractive(key) {\n",
              "        const element = document.querySelector('#df-6983dc88-7895-45fd-8979-d9a0b1d31536');\n",
              "        const dataTable =\n",
              "          await google.colab.kernel.invokeFunction('convertToInteractive',\n",
              "                                                    [key], {});\n",
              "        if (!dataTable) return;\n",
              "\n",
              "        const docLinkHtml = 'Like what you see? Visit the ' +\n",
              "          '<a target=\"_blank\" href=https://colab.research.google.com/notebooks/data_table.ipynb>data table notebook</a>'\n",
              "          + ' to learn more about interactive tables.';\n",
              "        element.innerHTML = '';\n",
              "        dataTable['output_type'] = 'display_data';\n",
              "        await google.colab.output.renderOutput(dataTable, element);\n",
              "        const docLink = document.createElement('div');\n",
              "        docLink.innerHTML = docLinkHtml;\n",
              "        element.appendChild(docLink);\n",
              "      }\n",
              "    </script>\n",
              "  </div>\n",
              "\n",
              "\n",
              "<div id=\"df-9c052876-2b5b-41db-9e20-151a9ae8783f\">\n",
              "  <button class=\"colab-df-quickchart\" onclick=\"quickchart('df-9c052876-2b5b-41db-9e20-151a9ae8783f')\"\n",
              "            title=\"Suggest charts\"\n",
              "            style=\"display:none;\">\n",
              "\n",
              "<svg xmlns=\"http://www.w3.org/2000/svg\" height=\"24px\"viewBox=\"0 0 24 24\"\n",
              "     width=\"24px\">\n",
              "    <g>\n",
              "        <path d=\"M19 3H5c-1.1 0-2 .9-2 2v14c0 1.1.9 2 2 2h14c1.1 0 2-.9 2-2V5c0-1.1-.9-2-2-2zM9 17H7v-7h2v7zm4 0h-2V7h2v10zm4 0h-2v-4h2v4z\"/>\n",
              "    </g>\n",
              "</svg>\n",
              "  </button>\n",
              "\n",
              "<style>\n",
              "  .colab-df-quickchart {\n",
              "      --bg-color: #E8F0FE;\n",
              "      --fill-color: #1967D2;\n",
              "      --hover-bg-color: #E2EBFA;\n",
              "      --hover-fill-color: #174EA6;\n",
              "      --disabled-fill-color: #AAA;\n",
              "      --disabled-bg-color: #DDD;\n",
              "  }\n",
              "\n",
              "  [theme=dark] .colab-df-quickchart {\n",
              "      --bg-color: #3B4455;\n",
              "      --fill-color: #D2E3FC;\n",
              "      --hover-bg-color: #434B5C;\n",
              "      --hover-fill-color: #FFFFFF;\n",
              "      --disabled-bg-color: #3B4455;\n",
              "      --disabled-fill-color: #666;\n",
              "  }\n",
              "\n",
              "  .colab-df-quickchart {\n",
              "    background-color: var(--bg-color);\n",
              "    border: none;\n",
              "    border-radius: 50%;\n",
              "    cursor: pointer;\n",
              "    display: none;\n",
              "    fill: var(--fill-color);\n",
              "    height: 32px;\n",
              "    padding: 0;\n",
              "    width: 32px;\n",
              "  }\n",
              "\n",
              "  .colab-df-quickchart:hover {\n",
              "    background-color: var(--hover-bg-color);\n",
              "    box-shadow: 0 1px 2px rgba(60, 64, 67, 0.3), 0 1px 3px 1px rgba(60, 64, 67, 0.15);\n",
              "    fill: var(--button-hover-fill-color);\n",
              "  }\n",
              "\n",
              "  .colab-df-quickchart-complete:disabled,\n",
              "  .colab-df-quickchart-complete:disabled:hover {\n",
              "    background-color: var(--disabled-bg-color);\n",
              "    fill: var(--disabled-fill-color);\n",
              "    box-shadow: none;\n",
              "  }\n",
              "\n",
              "  .colab-df-spinner {\n",
              "    border: 2px solid var(--fill-color);\n",
              "    border-color: transparent;\n",
              "    border-bottom-color: var(--fill-color);\n",
              "    animation:\n",
              "      spin 1s steps(1) infinite;\n",
              "  }\n",
              "\n",
              "  @keyframes spin {\n",
              "    0% {\n",
              "      border-color: transparent;\n",
              "      border-bottom-color: var(--fill-color);\n",
              "      border-left-color: var(--fill-color);\n",
              "    }\n",
              "    20% {\n",
              "      border-color: transparent;\n",
              "      border-left-color: var(--fill-color);\n",
              "      border-top-color: var(--fill-color);\n",
              "    }\n",
              "    30% {\n",
              "      border-color: transparent;\n",
              "      border-left-color: var(--fill-color);\n",
              "      border-top-color: var(--fill-color);\n",
              "      border-right-color: var(--fill-color);\n",
              "    }\n",
              "    40% {\n",
              "      border-color: transparent;\n",
              "      border-right-color: var(--fill-color);\n",
              "      border-top-color: var(--fill-color);\n",
              "    }\n",
              "    60% {\n",
              "      border-color: transparent;\n",
              "      border-right-color: var(--fill-color);\n",
              "    }\n",
              "    80% {\n",
              "      border-color: transparent;\n",
              "      border-right-color: var(--fill-color);\n",
              "      border-bottom-color: var(--fill-color);\n",
              "    }\n",
              "    90% {\n",
              "      border-color: transparent;\n",
              "      border-bottom-color: var(--fill-color);\n",
              "    }\n",
              "  }\n",
              "</style>\n",
              "\n",
              "  <script>\n",
              "    async function quickchart(key) {\n",
              "      const quickchartButtonEl =\n",
              "        document.querySelector('#' + key + ' button');\n",
              "      quickchartButtonEl.disabled = true;  // To prevent multiple clicks.\n",
              "      quickchartButtonEl.classList.add('colab-df-spinner');\n",
              "      try {\n",
              "        const charts = await google.colab.kernel.invokeFunction(\n",
              "            'suggestCharts', [key], {});\n",
              "      } catch (error) {\n",
              "        console.error('Error during call to suggestCharts:', error);\n",
              "      }\n",
              "      quickchartButtonEl.classList.remove('colab-df-spinner');\n",
              "      quickchartButtonEl.classList.add('colab-df-quickchart-complete');\n",
              "    }\n",
              "    (() => {\n",
              "      let quickchartButtonEl =\n",
              "        document.querySelector('#df-9c052876-2b5b-41db-9e20-151a9ae8783f button');\n",
              "      quickchartButtonEl.style.display =\n",
              "        google.colab.kernel.accessAllowed ? 'block' : 'none';\n",
              "    })();\n",
              "  </script>\n",
              "</div>\n",
              "\n",
              "    </div>\n",
              "  </div>\n"
            ],
            "application/vnd.google.colaboratory.intrinsic+json": {
              "type": "dataframe",
              "variable_name": "df",
              "summary": "{\n  \"name\": \"df\",\n  \"rows\": 15000,\n  \"fields\": [\n    {\n      \"column\": \"Unnamed: 0\",\n      \"properties\": {\n        \"dtype\": \"number\",\n        \"std\": 4330,\n        \"min\": 0,\n        \"max\": 14999,\n        \"num_unique_values\": 15000,\n        \"samples\": [\n          11499,\n          6475,\n          13167\n        ],\n        \"semantic_type\": \"\",\n        \"description\": \"\"\n      }\n    },\n    {\n      \"column\": \"text\",\n      \"properties\": {\n        \"dtype\": \"string\",\n        \"num_unique_values\": 14994,\n        \"samples\": [\n          \"\\u0646\\u0638\\u0645\\u062a \\u0645\\u0624\\u0633\\u0633\\u0629 \\u062d\\u0643\\u0648\\u0645\\u0629 \\u062f\\u0628\\u064a \\u0627\\u0644\\u0630\\u0643\\u064a\\u0629 \\u0628\\u0627\\u0644\\u062a\\u0639\\u0627\\u0648\\u0646 \\u0645\\u0639 \\u0647\\u064a\\u0626\\u0629 \\u062a\\u0646\\u0645\\u064a\\u0629 \\u0627\\u0644\\u0645\\u062c\\u062a\\u0645\\u0639\\u060c \\u0648\\u0631\\u0634\\u0629 \\u0639\\u0645\\u0644 \\u062a\\u0636\\u0645\\u0646\\u062a \\u062c\\u0644\\u0633\\u0627\\u062a \\u062d\\u0648\\u0627\\u0631\\u064a\\u0629 \\u062d\\u0648\\u0644 \\u0627\\u0644\\u0645\\u0639\\u0627\\u064a\\u064a\\u0631 \\u0627\\u0644\\u062a\\u064a \\u062a\\u0644\\u0628\\u064a \\u0627\\u062d\\u062a\\u064a\\u0627\\u062c\\u0627\\u062a \\u0648\\u0645\\u062a\\u0637\\u0644\\u0628\\u0627\\u062a \\u0623\\u0635\\u062d\\u0627\\u0628 \\u0627\\u0644\\u0647\\u0645\\u0645 \\u0645\\u0646 \\u0627\\u0644\\u0645\\u0648\\u0627\\u0642\\u0639 \\u0627\\u0644\\u0625\\u0644\\u0643\\u062a\\u0631\\u0648\\u0646\\u064a\\u0629 \\u0648\\u0627\\u0644\\u062a\\u0637\\u0628\\u064a\\u0642\\u0627\\u062a \\u0627\\u0644\\u0630\\u0643\\u064a\\u0629 \\u0627\\u0644\\u062a\\u0627\\u0628\\u0639\\u0629 \\u0644\\u062c\\u0647\\u0627\\u062a \\u0648\\u0645\\u0624\\u0633\\u0633\\u0627\\u062a \\u0627\\u0644\\u0642\\u0637\\u0627\\u0639 \\u0627\\u0644\\u062e\\u0627\\u0635 \\u0641\\u064a \\u062f\\u0628\\u064a\\u060c \\u0633\\u0639\\u064a\\u0627\\u064b \\u0646\\u062d\\u0648 \\u062a\\u0637\\u0648\\u064a\\u0631\\u0647\\u0627 \\u0644\\u062a\\u0643\\u0648\\u0646 \\u0635\\u062f\\u064a\\u0642\\u0629 \\u0644\\u0647\\u0645 \\u0648\\u0642\\u0627\\u062f\\u0631\\u0629 \\u0639\\u0644\\u0649 \\u062a\\u0648\\u0641\\u064a\\u0631 \\u062a\\u062c\\u0627\\u0631\\u0628 \\u0633\\u0639\\u064a\\u062f\\u0629 \\u062a\\u0644\\u0628\\u064a \\u0627\\u062d\\u062a\\u064a\\u0627\\u062c\\u0627\\u062a\\u0647\\u0645. \\u0648\\u0623\\u062a\\u062a \\u0647\\u0630\\u0647 \\u0627\\u0644\\u062c\\u0644\\u0633\\u0627\\u062a \\u0627\\u0644\\u062d\\u0648\\u0627\\u0631\\u064a\\u0629 \\u0627\\u0644\\u062a\\u064a \\u062a\\u0636\\u0645 \\u0641\\u0626\\u0627\\u062a \\u0645\\u062e\\u062a\\u0627\\u0631\\u0629 \\u0645\\u0646 \\u0623\\u0635\\u062d\\u0627\\u0628 \\u0627\\u0644\\u0647\\u0645\\u0645 \\u0643\\u0645\\u0631\\u062d\\u0644\\u0629 \\u0623\\u0648\\u0644\\u0649 \\u0645\\u0646 \\u0645\\u0628\\u0627\\u062f\\u0631\\u0629 \\u0646\\u0648\\u0639\\u064a\\u0629 \\u0648\\u0634\\u0627\\u0645\\u0644\\u0629\\u060c \\u0628\\u0647\\u062f\\u0641 \\u062a\\u0648\\u062c\\u064a\\u0647 \\u0645\\u0624\\u0633\\u0633\\u0627\\u062a \\u0627\\u0644\\u0642\\u0637\\u0627\\u0639 \\u0627\\u0644\\u062e\\u0627\\u0635 \\u0627\\u0644\\u0639\\u0627\\u0645\\u0644\\u0629 \\u0641\\u064a \\u0625\\u0645\\u0627\\u0631\\u0629 \\u062f\\u0628\\u064a \\u0644\\u062a\\u0623\\u0647\\u064a\\u0644 \\u0645\\u0648\\u0627\\u0642\\u0639\\u0647\\u0627 \\u0627\\u0644\\u0625\\u0644\\u0643\\u062a\\u0631\\u0648\\u0646\\u064a\\u0629 \\u0648\\u062a\\u0637\\u0628\\u064a\\u0642\\u0627\\u062a\\u0647\\u0627 \\u0627\\u0644\\u0630\\u0643\\u064a\\u0629 \\u0644\\u062a\\u0635\\u0628\\u062d \\u0645\\u062a\\u0637\\u0627\\u0628\\u0642\\u0629 \\u0645\\u0639 \\u0627\\u0644\\u0645\\u0639\\u0627\\u064a\\u064a\\u0631 \\u0627\\u0644\\u0642\\u064a\\u0627\\u0633\\u064a\\u0629 \\u0644\\u0625\\u0645\\u0643\\u0627\\u0646\\u064a\\u0629 \\u0648\\u0635\\u0648\\u0644 \\u0648\\u0627\\u0633\\u062a\\u062e\\u062f\\u0627\\u0645 \\u0623\\u0635\\u062d\\u0627\\u0628 \\u0627\\u0644\\u0647\\u0645\\u0645\\u060c \\u0648\\u0644\\u062a\\u062a\\u064a\\u062d \\u0644\\u0647\\u0645 \\u0625\\u0645\\u0643\\u0627\\u0646 \\u0627\\u0644\\u0648\\u0635\\u0648\\u0644 \\u0628\\u0643\\u0644 \\u0633\\u0647\\u0648\\u0644\\u0629 \\u0648\\u0633\\u0644\\u0627\\u0633\\u0629. \\u0648\\u062a\\u0645 \\u062e\\u0644\\u0627\\u0644 \\u0627\\u0644\\u062c\\u0644\\u0633\\u0627\\u062a \\u0625\\u0634\\u0631\\u0627\\u0643 \\u0623\\u0635\\u062d\\u0627\\u0628 \\u0627\\u0644\\u0647\\u0645\\u0645 \\u0641\\u064a \\u062a\\u062d\\u062f\\u064a\\u062f \\u0625\\u0631\\u0634\\u0627\\u062f\\u0627\\u062a \\u0627\\u0644\\u062a\\u0635\\u0645\\u064a\\u0645 \\u0627\\u0644\\u0645\\u064f\\u062a\\u0639\\u0644\\u0642\\u0629 \\u0628\\u0648\\u0627\\u062c\\u0647\\u0629 \\u0627\\u0644\\u062a\\u0637\\u0628\\u064a\\u0642\\u0627\\u062a \\u0627\\u0644\\u0630\\u0643\\u064a\\u0629 \\u0648\\u0627\\u0644\\u0645\\u0648\\u0627\\u0642\\u0639 \\u0627\\u0644\\u0625\\u0644\\u0643\\u062a\\u0631\\u0648\\u0646\\u064a\\u0629\\u060c \\u0648\\u0627\\u0644\\u0623\\u0644\\u0648\\u0627\\u0646 \\u0627\\u0644\\u0645\\u0631\\u064a\\u062d\\u0629 \\u0627\\u0644\\u0645\\u0641\\u0636\\u0644\\u0629 \\u0644\\u062f\\u064a\\u0647\\u0645. \\u0648\\u0623\\u0643\\u062f\\u062a \\u0627\\u0644\\u062f\\u0643\\u062a\\u0648\\u0631\\u0629 \\u0639\\u0627\\u0626\\u0634\\u0629 \\u0628\\u0646\\u062a \\u0628\\u0637\\u064a \\u0628\\u0646 \\u0628\\u0634\\u0631\\u060c \\u0645\\u062f\\u064a\\u0631 \\u0639\\u0627\\u0645 \\u0645\\u0643\\u062a\\u0628 \\u062f\\u0628\\u064a \\u0627\\u0644\\u0630\\u0643\\u064a\\u0629 \\u0636\\u0631\\u0648\\u0631\\u0629 \\u062a\\u0636\\u0627\\u0641\\u0631 \\u0627\\u0644\\u062c\\u0647\\u0648\\u062f \\u0628\\u064a\\u0646 \\u062c\\u0645\\u064a\\u0639 \\u0627\\u0644\\u062c\\u0647\\u0627\\u062a \\u0627\\u0644\\u062d\\u0643\\u0648\\u0645\\u064a\\u0629 \\u0648\\u0627\\u0644\\u062e\\u0627\\u0635\\u0629 \\u0641\\u064a \\u062f\\u0628\\u064a\\u060c \\u0648\\u0627\\u0644\\u0639\\u0645\\u0644 \\u0627\\u0644\\u062f\\u0624\\u0648\\u0628 \\u0648\\u0627\\u0644\\u062a\\u0631\\u0643\\u064a\\u0632 \\u0639\\u0644\\u0649 \\u062a\\u0646\\u0641\\u064a\\u0630 \\u062c\\u0645\\u064a\\u0639 \\u0627\\u0644\\u0645\\u0628\\u0627\\u062f\\u0631\\u0627\\u062a. \\u0648\\u0642\\u0627\\u0644 \\u0648\\u0633\\u0627\\u0645 \\u0644\\u0648\\u062a\\u0627\\u0647\\u060c \\u0627\\u0644\\u0645\\u062f\\u064a\\u0631 \\u0627\\u0644\\u062a\\u0646\\u0641\\u064a\\u0630\\u064a \\u0644\\u0645\\u0624\\u0633\\u0633\\u0629 \\u062d\\u0643\\u0648\\u0645\\u0629 \\u062f\\u0628\\u064a \\u0627\\u0644\\u0630\\u0643\\u064a\\u0629: \\u0625\\u0646 \\u0639\\u0645\\u0644\\u064a\\u0629 \\u062a\\u0623\\u0647\\u064a\\u0644 \\u0627\\u0644\\u0645\\u0648\\u0627\\u0642\\u0639 \\u0627\\u0644\\u0625\\u0644\\u0643\\u062a\\u0631\\u0648\\u0646\\u064a\\u0629 \\u0648\\u0627\\u0644\\u062a\\u0637\\u0628\\u064a\\u0642\\u0627\\u062a \\u0627\\u0644\\u0630\\u0643\\u064a\\u0629 \\u0641\\u064a \\u062c\\u0647\\u0627\\u062a \\u0627\\u0644\\u0642\\u0637\\u0627\\u0639 \\u0627\\u0644\\u062e\\u0627\\u0635 \\u0628\\u062f\\u0628\\u064a\\u060c \\u062a\\u0623\\u062a\\u064a \\u0641\\u064a \\u0625\\u0637\\u0627\\u0631 \\u062c\\u0647\\u0648\\u062f \\u00ab\\u062f\\u0628\\u064a \\u0627\\u0644\\u0630\\u0643\\u064a\\u0629\\u00bb \\u0627\\u0644\\u0647\\u0627\\u062f\\u0641\\u0629 \\u0625\\u0644\\u0649 \\u062a\\u062d\\u0648\\u064a\\u0644 \\u062f\\u0628\\u064a \\u0628\\u0627\\u0644\\u0643\\u0627\\u0645\\u0644 \\u0625\\u0644\\u0649 \\u0645\\u062f\\u064a\\u0646\\u0629 \\u0635\\u062f\\u064a\\u0642\\u0629 \\u0644\\u0623\\u0635\\u062d\\u0627\\u0628 \\u0627\\u0644\\u0647\\u0645\\u0645 \\u0628\\u062d\\u0644\\u0648\\u0644 \\u0639\\u0627\\u0645 2020. \\u0645\\u0646 \\u062c\\u0647\\u062a\\u0647 \\u0623\\u0643\\u062f \\u0623\\u062d\\u0645\\u062f \\u0639\\u0628\\u062f \\u0627\\u0644\\u0643\\u0631\\u064a\\u0645 \\u062c\\u0644\\u0641\\u0627\\u0631\\u060c \\u0645\\u062f\\u064a\\u0631 \\u0639\\u0627\\u0645 \\u0647\\u064a\\u0626\\u0629 \\u062a\\u0646\\u0645\\u064a\\u0629 \\u0627\\u0644\\u0645\\u062c\\u062a\\u0645\\u0639 \\u0636\\u0631\\u0648\\u0631\\u0629 \\u062a\\u0648\\u0641\\u064a\\u0631 \\u0628\\u064a\\u0626\\u0629 \\u062f\\u0627\\u0645\\u062c\\u0629 \\u0648\\u0645\\u0645\\u0643\\u0646\\u0629 \\u0644\\u0623\\u0635\\u062d\\u0627\\u0628 \\u0627\\u0644\\u0647\\u0645\\u0645 \\u062a\\u062a\\u064a\\u062d \\u0644\\u0647\\u0645 \\u0627\\u0644\\u0648\\u0635\\u0648\\u0644 \\u0627\\u0644\\u0643\\u0627\\u0645\\u0644 \\u0644\\u0643\\u0627\\u0641\\u0629 \\u062d\\u0642\\u0648\\u0642\\u0647\\u0645\\u060c \\u0644\\u0627\\u0641\\u062a\\u0627\\u064b \\u0625\\u0644\\u0649 \\u0623\\u0646 \\u0627\\u0644\\u062a\\u062d\\u0648\\u0644 \\u0627\\u0644\\u0630\\u0643\\u064a \\u0627\\u0644\\u0630\\u064a \\u062a\\u0634\\u0647\\u062f\\u0647 \\u062d\\u0643\\u0648\\u0645\\u0629 \\u062f\\u0628\\u064a \\u0628\\u062c\\u0645\\u064a\\u0639 \\u062e\\u062f\\u0645\\u0627\\u062a\\u0647\\u0627 \\u0645\\u0646 \\u0634\\u0623\\u0646\\u0647 \\u0623\\u0646 \\u064a\\u062a\\u064a\\u062d \\u0633\\u0647\\u0648\\u0644\\u0629 \\u0623\\u0643\\u0628\\u0631 \\u0641\\u064a \\u0645\\u0648\\u0627\\u0621\\u0645\\u0629 \\u0627\\u0644\\u062e\\u062f\\u0645\\u0627\\u062a \\u0644\\u0627\\u062d\\u062a\\u064a\\u0627\\u062c\\u0627\\u062a \\u0623\\u0635\\u062d\\u0627\\u0628 \\u0627\\u0644\\u0647\\u0645\\u0645.\",\n          \"\\u062d\\u0648\\u0627\\u0631: \\u0646\\u062c\\u0627\\u0629 \\u0627\\u0644\\u0641\\u0627\\u0631\\u0633 \\u0645\\u062d\\u0645\\u062f \\u0627\\u0644\\u062d\\u0645\\u0627\\u062f\\u064a \\u0643\\u0627\\u062a\\u0628 \\u0625\\u0645\\u0627\\u0631\\u0627\\u062a\\u064a \\u0641\\u0627\\u0632 \\u0628\\u0627\\u0644\\u0645\\u0631\\u0643\\u0632 \\u0627\\u0644\\u062b\\u0627\\u0644\\u062b \\u0628\\u062c\\u0627\\u0626\\u0632\\u0629 \\u0627\\u0644\\u0625\\u0645\\u0627\\u0631\\u0627\\u062a \\u0644\\u0644\\u0631\\u0648\\u0627\\u064a\\u0629 \\u0641\\u064a \\u062f\\u0648\\u0631\\u062a\\u0647\\u0627 \\u0627\\u0644\\u062b\\u0627\\u0644\\u062b\\u0629 \\u0639\\u0646 \\u0631\\u0648\\u0627\\u064a\\u062a\\u0647 \\u00ab\\u0627\\u0644\\u0628\\u062d\\u062b \\u0639\\u0646 \\u0645\\u0645\\u0644\\u0643\\u0629 \\u0627\\u0644\\u0634\\u0645\\u0633\\u00bb\\u060c \\u0643\\u0645\\u0627 \\u0641\\u0627\\u0632\\u062a \\u0631\\u0648\\u0627\\u064a\\u062a\\u0647 \\u00ab\\u0627\\u0644\\u064a\\u0648\\u0645 \\u0627\\u0644\\u0623\\u062e\\u064a\\u0631.. \\u064a\\u0648\\u0645\\u064a\\u0627\\u062a \\u0627\\u0644\\u0628\\u0631\\u0648\\u0641\\u064a\\u0633\\u0648\\u0631 \\u0645\\u0627\\u0643 \\u0622\\u064a\\u062f\\u064a\\u00bb\\u060c \\u0628\\u0627\\u0644\\u0645\\u0631\\u0643\\u0632 \\u0627\\u0644\\u0623\\u0648\\u0644 \\u0641\\u064a \\u0627\\u0644\\u062f\\u0648\\u0631\\u0629 \\u0627\\u0644\\u062b\\u0627\\u0646\\u064a\\u0629 \\u0644\\u062c\\u0627\\u0626\\u0632\\u0629 \\u0627\\u0644\\u0625\\u0645\\u0627\\u0631\\u0627\\u062a \\u0644\\u0644\\u0631\\u0648\\u0627\\u064a\\u0629 \\u0641\\u0626\\u0629 \\u0627\\u0644\\u0631\\u0648\\u0627\\u064a\\u0629 \\u0627\\u0644\\u0637\\u0648\\u064a\\u0644\\u0629\\u060c \\u062a\\u0633\\u062a\\u0647\\u0648\\u064a\\u0647 \\u0643\\u062a\\u0628 \\u0627\\u0644\\u0639\\u0644\\u0648\\u0645 \\u0643\\u0627\\u0644\\u0630\\u0631\\u0651\\u0629 \\u0648\\u0627\\u0644\\u0641\\u064a\\u0632\\u064a\\u0627\\u0621 \\u0648\\u0627\\u0644\\u0643\\u064a\\u0645\\u064a\\u0627\\u0621\\u060c \\u0625\\u0636\\u0627\\u0641\\u0629 \\u0625\\u0644\\u0649 \\u0627\\u0644\\u062a\\u0627\\u0631\\u064a\\u062e \\u0648\\u0627\\u0644\\u0633\\u064a\\u0631 \\u0627\\u0644\\u0630\\u0627\\u062a\\u064a\\u0629\\u060c \\u064a\\u0639\\u0645\\u0644 \\u062d\\u0627\\u0644\\u064a\\u0627\\u064b \\u0639\\u0644\\u0649 \\u0643\\u062a\\u0627\\u0628\\u0629 \\u0631\\u0648\\u0627\\u064a\\u0629 \\u062a\\u0627\\u0631\\u064a\\u062e\\u064a\\u0629 \\u062a\\u062d\\u062a \\u0639\\u0646\\u0648\\u0627\\u0646 \\u00ab\\u0627\\u0644\\u0646\\u062e\\u0644\\u0629\\u00bb \\u062a\\u062f\\u0648\\u0631 \\u0623\\u062d\\u062f\\u0627\\u062b\\u0647\\u0627 \\u0641\\u064a \\u0645\\u0635\\u0631 \\u0627\\u0644\\u0641\\u0631\\u0639\\u0648\\u0646\\u064a\\u0629 \\u0648\\u0627\\u0644\\u0628\\u062a\\u0631\\u0627\\u0621\\u060c \\u0648\\u0631\\u0648\\u0627\\u064a\\u0629 \\u0623\\u062e\\u0631\\u0649 \\u0628\\u0639\\u0646\\u0648\\u0627\\u0646 \\u00ab\\u0644\\u063a\\u0632 \\u0635\\u0648\\u0631\\u0629 \\u0645\\u0646 \\u0627\\u0644\\u0643\\u0648\\u0643\\u0628 \\u0627\\u0644\\u0623\\u062d\\u0645\\u0631\\u00bb\\u060c \\u0648\\u0647\\u064a \\u062c\\u0631\\u064a\\u0645\\u0629 \\u0645\\u0645\\u0632\\u0648\\u062c\\u0629 \\u0628\\u0627\\u0644\\u062e\\u064a\\u0627\\u0644 \\u0627\\u0644\\u0639\\u0644\\u0645\\u064a\\u060c \\u0643\\u062a\\u0628\\u0647\\u0627 \\u062a\\u0632\\u0627\\u0645\\u0646\\u0627\\u064b \\u0645\\u0639 \\u0627\\u0647\\u062a\\u0645\\u0627\\u0645 \\u0627\\u0644\\u0625\\u0645\\u0627\\u0631\\u0627\\u062a \\u0645\\u0624\\u062e\\u0631\\u0627\\u064b \\u0628\\u0627\\u0644\\u0641\\u0636\\u0627\\u0621 \\u0648\\u0643\\u0648\\u0643\\u0628 \\u0627\\u0644\\u0645\\u0631\\u064a\\u062e \\u062a\\u062d\\u062f\\u064a\\u062f\\u0627\\u064b\\u060c \\u0644\\u064a\\u0642\\u0631\\u0628 \\u0635\\u0648\\u0631\\u0629 \\u0627\\u0644\\u0645\\u0631\\u064a\\u062e \\u0648\\u0623\\u062c\\u0648\\u0627\\u0621\\u0647 \\u0644\\u0644\\u0642\\u0627\\u0631\\u0626 \\u0627\\u0644\\u0625\\u0645\\u0627\\u0631\\u0627\\u062a\\u064a \\u0648\\u0627\\u0644\\u0639\\u0631\\u0628\\u064a. \\u0648\\u0643\\u0627\\u0646 \\u0644\\u0640\\u00ab\\u0627\\u0644\\u062e\\u0644\\u064a\\u062c\\u00bb \\u0627\\u0644\\u062d\\u0648\\u0627\\u0631 \\u0627\\u0644\\u0622\\u062a\\u064a \\u0645\\u0639\\u0647: *\\u0643\\u064a\\u0641 \\u0648\\u0645\\u062a\\u0649 \\u0628\\u062f\\u0623\\u062a \\u0631\\u062d\\u0644\\u062a\\u0643 \\u0645\\u0639 \\u0627\\u0644\\u0643\\u062a\\u0627\\u0628\\u0629\\u061f- \\u0628\\u062f\\u0623\\u062a \\u0627\\u0644\\u0643\\u062a\\u0627\\u0628\\u0629 \\u0628\\u0631\\u0648\\u0627\\u064a\\u0629 \\u00ab\\u0627\\u0644\\u064a\\u0648\\u0645 \\u0627\\u0644\\u0623\\u062e\\u064a\\u0631\\u00bb \\u0648\\u0643\\u0627\\u0646\\u062a \\u062a\\u062c\\u0631\\u0628\\u062a\\u064a \\u0627\\u0644\\u0623\\u0648\\u0644\\u0649\\u060c \\u0648\\u0628\\u0639\\u062f \\u0641\\u0631\\u0627\\u063a\\u064a \\u0645\\u0646\\u0647\\u0627 \\u0628\\u0642\\u064a\\u062a \\u0627\\u0644\\u0631\\u0648\\u0627\\u064a\\u0629 \\u0641\\u0648\\u0642 \\u0627\\u0644\\u0631\\u0641 \\u0644\\u0633\\u0646\\u062a\\u064a\\u0646 \\u0625\\u0644\\u0649 \\u0623\\u0646 \\u0634\\u0627\\u0647\\u062f\\u062a \\u0639\\u0631\\u0636 \\u062c\\u0627\\u0626\\u0632\\u0629 \\u0627\\u0644\\u0625\\u0645\\u0627\\u0631\\u0627\\u062a \\u0644\\u0644\\u0631\\u0648\\u0627\\u064a\\u0629 \\u0641\\u064a \\u0645\\u0639\\u0631\\u0636 \\u0627\\u0644\\u0634\\u0627\\u0631\\u0642\\u0629 \\u0627\\u0644\\u062f\\u0648\\u0644\\u064a \\u0644\\u0644\\u0643\\u062a\\u0627\\u0628\\u060c \\u0648\\u0647\\u0646\\u0627\\u0643 \\u0642\\u0631\\u0631\\u062a \\u0625\\u0631\\u0633\\u0627\\u0644\\u0647\\u0627\\u060c \\u0648\\u0644\\u0645 \\u0623\\u062a\\u0648\\u0642\\u0639 \\u0627\\u0644\\u0641\\u0648\\u0632 \\u0625\\u0637\\u0644\\u0627\\u0642\\u0627\\u060c \\u0643\\u0646\\u062a \\u0645\\u062a\\u0634\\u0627\\u0626\\u0645\\u0627\\u064b \\u0628\\u0639\\u0636 \\u0627\\u0644\\u0634\\u064a\\u0621\\u060c \\u0644\\u0643\\u0646 \\u0641\\u0648\\u0632\\u0647\\u0627 \\u062f\\u0648\\u0646 \\u0645\\u0646\\u0627\\u0641\\u0633 \\u0645\\u0646\\u062d\\u0646\\u064a \\u0637\\u0627\\u0642\\u0629 \\u0644\\u0644\\u0625\\u0628\\u062f\\u0627\\u0639 \\u0623\\u0643\\u062b\\u0631\\u060c \\u0648\\u0639\\u0646\\u062f\\u0647\\u0627 \\u0643\\u062a\\u0628\\u062a \\u0631\\u0648\\u0627\\u064a\\u062a\\u064a \\u0627\\u0644\\u062b\\u0627\\u0646\\u064a\\u0629 \\u00ab\\u0628\\u0648\\u0646\\u063a\\u0627\\u0646\\u064a \\u0627\\u0644\\u0634\\u0627\\u0641\\u064a.. \\u062d\\u0643\\u0627\\u064a\\u0629 \\u0623\\u0645 \\u0625\\u0641\\u0631\\u064a\\u0642\\u064a\\u0629\\u00bb\\u060c \\u0648\\u0623\\u0639\\u062a\\u0628\\u0631\\u0647\\u0627 \\u0627\\u0644\\u0631\\u0648\\u0627\\u064a\\u0629 \\u0627\\u0644\\u0623\\u0642\\u0631\\u0628 \\u0625\\u0644\\u0649 \\u0642\\u0644\\u0628\\u064a\\u060c \\u0648\\u062a\\u0644\\u0642\\u0641\\u062a \\u0627\\u0644\\u0639\\u0645\\u0644 \\u062f\\u0627\\u0631 \\u0646\\u0634\\u0631 \\u00ab\\u0631\\u0648\\u0627\\u064a\\u0627\\u062a\\u00bb \\u0648\\u0644\\u0642\\u064a\\u062a \\u0627\\u0644\\u0631\\u0648\\u0627\\u064a\\u0629 \\u0646\\u062c\\u0627\\u062d\\u0627\\u064b \\u0637\\u064a\\u0628\\u0627\\u064b. *\\u0645\\u0627\\u0630\\u0627 \\u0639\\u0646 \\u0645\\u0634\\u0631\\u0648\\u0639\\u0643 \\u0627\\u0644\\u0623\\u062f\\u0628\\u064a \\u0627\\u0644\\u0642\\u0627\\u062f\\u0645\\u061f- \\u0645\\u0624\\u062e\\u0631\\u0627\\u064b \\u0628\\u062f\\u0623\\u062a \\u0628\\u0643\\u062a\\u0627\\u0628\\u0629 \\u0631\\u0648\\u0627\\u064a\\u0629 \\u062a\\u0627\\u0631\\u064a\\u062e\\u064a\\u0629 \\u062a\\u062d\\u062a \\u0639\\u0646\\u0648\\u0627\\u0646 \\u00ab\\u0627\\u0644\\u0646\\u062e\\u0644\\u0629\\u00bb \\u062a\\u062f\\u0648\\u0631 \\u0623\\u062d\\u062f\\u0627\\u062b\\u0647\\u0627 \\u0641\\u064a \\u0645\\u0635\\u0631 \\u0627\\u0644\\u0641\\u0631\\u0639\\u0648\\u0646\\u064a\\u0629 \\u0648\\u0627\\u0644\\u0628\\u062a\\u0631\\u0627\\u0621\\u060c \\u0641\\u064a \\u0627\\u0644\\u0623\\u0632\\u0645\\u0646\\u0629 \\u0627\\u0644\\u063a\\u0627\\u0628\\u0631\\u0629 \\u062d\\u064a\\u062b \\u062d\\u062f\\u062b\\u062a \\u0645\\u062c\\u0627\\u0639\\u0629 \\u0643\\u0628\\u0631\\u0649 \\u062f\\u0627\\u0631\\u062a \\u0628\\u0639\\u062f\\u0647\\u0627 \\u062d\\u0631\\u0648\\u0628 \\u0637\\u0627\\u062d\\u0646\\u0629\\u060c \\u062a\\u0642\\u0648\\u062f \\u0623\\u062d\\u062f\\u0627\\u062b \\u0627\\u0644\\u0631\\u0648\\u0627\\u064a\\u0629 \\u0628\\u0637\\u0644\\u062a\\u064a\\u0647\\u0627 \\u062a\\u0648\\u064a\\u0627 \\u0648\\u0623\\u062e\\u062a\\u0647\\u0627 \\u0628\\u0627\\u062a\\u0648\\u064a\\u0627 \\u0625\\u0644\\u0627 \\u0623\\u0646\\u0646\\u064a \\u062a\\u0648\\u0642\\u0641\\u062a \\u0639\\u0646 \\u0643\\u062a\\u0627\\u0628\\u062a\\u0647\\u0627 \\u0644\\u0623\\u0646\\u0646\\u064a \\u0623\\u0646\\u0634\\u0623\\u062a \\u062d\\u0633\\u0627\\u0628\\u0627\\u064b \\u0641\\u064a \\u0623\\u062d\\u062f \\u0645\\u0648\\u0627\\u0642\\u0639 \\u0627\\u0644\\u062a\\u0648\\u0627\\u0635\\u0644 \\u0627\\u0644\\u0627\\u062c\\u062a\\u0645\\u0627\\u0639\\u064a\\u060c \\u0648\\u0627\\u0646\\u0634\\u063a\\u0644\\u062a \\u0628\\u0625\\u0639\\u062f\\u0627\\u062f\\u0647 \\u0648\\u062a\\u062c\\u0647\\u064a\\u0632\\u0647 \\u0641\\u0623\\u062e\\u0630 \\u0645\\u0646\\u064a \\u0623\\u063a\\u0644\\u0628 \\u0648\\u0642\\u062a \\u0641\\u0631\\u0627\\u063a\\u064a\\u060c \\u0648\\u0623\\u0638\\u0646 \\u0623\\u0646\\u0646\\u064a \\u0633\\u0623\\u062a\\u0627\\u0628\\u0639 \\u0643\\u062a\\u0627\\u0628\\u062a\\u0647\\u0627 \\u0641\\u064a \\u0648\\u0642\\u062a \\u0644\\u0627\\u062d\\u0642 \\u0644\\u0627 \\u0623\\u0633\\u062a\\u0637\\u064a\\u0639 \\u062a\\u062d\\u062f\\u064a\\u062f\\u0647. *\\u0643\\u064a\\u0641 \\u062a\\u062e\\u062a\\u0627\\u0631 \\u0623\\u0628\\u0637\\u0627\\u0644 \\u0623\\u0639\\u0645\\u0627\\u0644\\u0643 \\u0627\\u0644\\u0623\\u062f\\u0628\\u064a\\u0629\\u061f- \\u0623\\u062e\\u062a\\u0627\\u0631 \\u0623\\u0628\\u0637\\u0627\\u0644 \\u0631\\u0648\\u0627\\u064a\\u0627\\u062a\\u064a \\u0645\\u0646 \\u0645\\u062e\\u064a\\u0644\\u062a\\u064a\\u060c \\u0644\\u0643\\u0646 \\u0623\\u062d\\u064a\\u0627\\u0646\\u0627 \\u0623\\u0636\\u0637\\u0631 \\u0644\\u0644\\u0627\\u0633\\u062a\\u0639\\u0627\\u0646\\u0629 \\u0628\\u0645\\u0639\\u0627\\u062c\\u0645 \\u0627\\u0644\\u0623\\u0633\\u0645\\u0627\\u0621 \\u0644\\u0627\\u0633\\u062a\\u0646\\u0628\\u0627\\u0637 \\u0627\\u0644\\u0627\\u0633\\u0645 \\u0627\\u0644\\u0645\\u0646\\u0627\\u0633\\u0628 \\u0645\\u062b\\u0644\\u0645\\u0627 \\u062d\\u062f\\u062b \\u0645\\u0639 \\u0631\\u0648\\u0627\\u064a\\u0629 \\u00ab\\u0628\\u0648\\u0646\\u063a\\u0627\\u0646\\u064a \\u0627\\u0644\\u0634\\u0627\\u0641\\u064a\\u00bb \\u0630\\u0627\\u062a \\u0627\\u0644\\u0623\\u0633\\u0645\\u0627\\u0621 \\u0627\\u0644\\u0625\\u0641\\u0631\\u064a\\u0642\\u064a\\u0629\\u060c \\u0648\\u0631\\u0648\\u0627\\u064a\\u0629 \\u00ab\\u0644\\u063a\\u0632 \\u0635\\u0648\\u0631\\u0629 \\u0645\\u0646 \\u0627\\u0644\\u0643\\u0648\\u0643\\u0628 \\u0627\\u0644\\u0623\\u062d\\u0645\\u0631\\u00bb \\u0630\\u0627\\u062a \\u0627\\u0644\\u0623\\u0633\\u0645\\u0627\\u0621 \\u0627\\u0644\\u0647\\u0648\\u0644\\u0646\\u062f\\u064a\\u0629 \\u0648\\u0627\\u0644\\u0631\\u0648\\u0633\\u064a\\u0629 \\u0648\\u0627\\u0644\\u0647\\u0646\\u062f\\u064a\\u0629\\u060c \\u0641\\u0628\\u0648\\u0646\\u063a\\u0627\\u0646\\u064a \\u0627\\u0633\\u0645 \\u0625\\u0641\\u0631\\u064a\\u0642\\u064a \\u0623\\u0635\\u064a\\u0644 \\u0645\\u0627 \\u0632\\u0627\\u0644 \\u0645\\u0633\\u062a\\u062e\\u062f\\u0645\\u0627\\u064b \\u062d\\u062a\\u0649 \\u0627\\u0644\\u0622\\u0646 \\u0648\\u064a\\u0639\\u0646\\u064a \\u0627\\u0644\\u0648\\u0641\\u064a \\u0627\\u0644\\u0645\\u062e\\u0644\\u0635\\u060c \\u0648\\u0627\\u0633\\u0645 \\u0627\\u0644\\u0623\\u0645 \\u0645\\u0627\\u0631\\u064a\\u062a \\u064a\\u0639\\u0646\\u064a \\u0644\\u0624\\u0644\\u0624\\u0629\\u060c \\u0648\\u0647\\u0646\\u0627\\u0643 \\u0627\\u0644\\u0637\\u0628\\u064a\\u0628 \\u0632\\u0627\\u064a\\u0631\\u064a \\u0623\\u064a \\u0646\\u0647\\u0631\\u060c \\u0648\\u0646\\u0648\\u0645\\u0627\\u0644\\u0627\\u063a\\u0627 \\u0646\\u0648\\u0631 \\u0627\\u0644\\u0634\\u0645\\u0633\\u060c \\u0648\\u0644\\u064a\\u0633\\u064a\\u062f\\u064a \\u0627\\u0645\\u0631\\u0623\\u0629 \\u0645\\u0646 \\u0646\\u0648\\u0631 \\u0648\\u0647\\u0643\\u0630\\u0627 \\u062f\\u0648\\u0627\\u0644\\u064a\\u0643. *\\u0645\\u0627 \\u0647\\u064a \\u0637\\u0628\\u064a\\u0639\\u0629 \\u0642\\u0631\\u0627\\u0621\\u0627\\u062a\\u0643\\u061f \\u0648\\u0645\\u0646 \\u0647\\u0648 \\u0627\\u0644\\u0643\\u0627\\u062a\\u0628 \\u0627\\u0644\\u0645\\u0641\\u0636\\u0644 \\u0644\\u062f\\u064a\\u0643 \\u0648\\u0644\\u0645\\u0627\\u0630\\u0627\\u061f- \\u0628\\u0627\\u0644\\u0646\\u0633\\u0628\\u0629 \\u0644\\u0642\\u0631\\u0627\\u0621\\u0627\\u062a\\u064a \\u0646\\u0627\\u062f\\u0631\\u0627\\u064b \\u0645\\u0627 \\u0623\\u0642\\u0631\\u0623 \\u0627\\u0644\\u0631\\u0648\\u0627\\u064a\\u0627\\u062a\\u060c \\u0625\\u0630 \\u062a\\u0633\\u062a\\u0647\\u0648\\u064a\\u0646\\u064a \\u0643\\u062a\\u0628 \\u0627\\u0644\\u0639\\u0644\\u0648\\u0645 \\u0643\\u0627\\u0644\\u0630\\u0631\\u0651\\u0629 \\u0648\\u0627\\u0644\\u0641\\u064a\\u0632\\u064a\\u0627\\u0621 \\u0648\\u0627\\u0644\\u0643\\u064a\\u0645\\u064a\\u0627\\u0621\\u060c \\u0625\\u0636\\u0627\\u0641\\u0629 \\u0625\\u0644\\u0649 \\u0627\\u0644\\u062a\\u0627\\u0631\\u064a\\u062e \\u0648\\u0627\\u0644\\u0633\\u064a\\u0631 \\u0627\\u0644\\u0630\\u0627\\u062a\\u064a\\u0629\\u060c \\u0648\\u0625\\u0646 \\u0643\\u0627\\u0646 \\u0647\\u0646\\u0627\\u0644\\u0643 \\u0643\\u0627\\u062a\\u0628 \\u0623\\u0639\\u0634\\u0642 \\u0643\\u062a\\u0628\\u0647 \\u0641\\u0647\\u0648 \\u062c\\u0648\\u0644 \\u0641\\u064a\\u0631\\u0646 \\u0627\\u0644\\u0645\\u0644\\u0642\\u0628 \\u0628\\u0623\\u0628\\u064a \\u0627\\u0644\\u062e\\u064a\\u0627\\u0644 \\u0627\\u0644\\u0639\\u0644\\u0645\\u064a\\u060c \\u0648\\u0623\\u0645\\u064a\\u0644 \\u0623\\u062d\\u064a\\u0627\\u0646\\u0627\\u064b \\u0644\\u0642\\u0631\\u0627\\u0621\\u0629 \\u0623\\u0639\\u0645\\u0627\\u0644 \\u062c\\u064a \\u0643\\u064a \\u0631\\u0648\\u0644\\u0646\\u063a \\u0645\\u0624\\u0644\\u0641\\u0629 \\u0633\\u0644\\u0633\\u0644\\u0629 \\u0647\\u0627\\u0631\\u064a \\u0628\\u0648\\u062a\\u0631 \\u0648\\u0628\\u0639\\u0636 \\u0627\\u0644\\u0642\\u0635\\u0635 \\u0627\\u0644\\u0623\\u062e\\u0631\\u0649\\u060c \\u0625\\u0630 \\u064a\\u0639\\u062c\\u0628\\u0646\\u064a \\u0623\\u0633\\u0644\\u0648\\u0628\\u0647\\u0627 \\u0627\\u0644\\u0645\\u0628\\u0647\\u0631 \\u062c\\u062f\\u0627\\u064b \\u0641\\u064a \\u0627\\u0644\\u062e\\u064a\\u0627\\u0644\\u060c \\u0648\\u0642\\u0635\\u0629 \\u0646\\u062c\\u0627\\u062d\\u0647\\u0627 \\u0627\\u0644\\u0645\\u0644\\u0647\\u0645\\u0629 \\u062c\\u062f\\u0627\\u064b \\u0628\\u0627\\u0644\\u0646\\u0633\\u0628\\u0629 \\u0644\\u064a\\u060c \\u0648\\u0645\\u0646 \\u0627\\u0644\\u0643\\u062a\\u0628 \\u0627\\u0644\\u0639\\u0631\\u0628\\u064a\\u0629 \\u062a\\u0633\\u062a\\u0647\\u0648\\u064a\\u0646\\u064a \\u0643\\u062a\\u0627\\u0628\\u0627\\u062a \\u062c\\u0645\\u0627\\u0644 \\u0627\\u0644\\u0634\\u062d\\u064a\\u060c \\u0625\\u0630 \\u0625\\u0646 \\u0633\\u0637\\u0648\\u0631 \\u0643\\u062a\\u0627\\u0628\\u0627\\u062a\\u0647 \\u062a\\u062d\\u062a\\u0648\\u064a \\u0639\\u0644\\u0649 \\u062c\\u0645\\u0644 \\u0641\\u0644\\u0633\\u0641\\u064a\\u0629 \\u0639\\u0645\\u064a\\u0642\\u0629 \\u0644\\u0647\\u0627 \\u0644\\u0630\\u062a\\u0647\\u0627 \\u0627\\u0644\\u062e\\u0627\\u0635\\u0629 \\u0641\\u064a \\u0646\\u0641\\u0633\\u064a\\u060c \\u0641\\u0647\\u0648 \\u064a\\u0633\\u062a\\u0637\\u064a\\u0639 \\u0623\\u0646 \\u064a\\u0634\\u0627\\u0647\\u062f \\u0627\\u0644\\u0623\\u0645\\u0648\\u0631 \\u0645\\u0646 \\u0632\\u0627\\u0648\\u064a\\u0629 \\u0645\\u062e\\u062a\\u0644\\u0641\\u0629. *\\u0645\\u0627 \\u0623\\u0647\\u0645 \\u0627\\u0644\\u062a\\u062d\\u062f\\u064a\\u0627\\u062a \\u0627\\u0644\\u062a\\u064a \\u0648\\u0627\\u062c\\u0647\\u062a\\u0643 \\u0623\\u062b\\u0646\\u0627\\u0621 \\u0631\\u062d\\u0644\\u062a\\u0643 \\u0645\\u0639 \\u0627\\u0644\\u0643\\u0644\\u0645\\u0629\\u061f- \\u0627\\u0644\\u062a\\u062d\\u062f\\u064a\\u0627\\u062a \\u0627\\u0644\\u062a\\u064a \\u062a\\u0648\\u0627\\u062c\\u0647 \\u0627\\u0644\\u0643\\u0627\\u062a\\u0628 \\u0643\\u062b\\u064a\\u0631\\u0629\\u060c \\u0641\\u0641\\u064a \\u0627\\u0644\\u0628\\u062f\\u0627\\u064a\\u0629 \\u064a\\u062a\\u0631\\u062a\\u0628 \\u0639\\u0644\\u064a\\u0647 \\u0623\\u0646 \\u064a\\u062a\\u063a\\u0644\\u0628 \\u0639\\u0644\\u0649 \\u0646\\u0641\\u0633\\u0647\\u060c \\u0641\\u0627\\u0644\\u0643\\u062a\\u0627\\u0628\\u0629 \\u0623\\u0645\\u0631 \\u0645\\u0631\\u0647\\u0642 \\u0648\\u064a\\u062a\\u0637\\u0644\\u0628 \\u0645\\u062c\\u0647\\u0648\\u062f\\u0627\\u064b \\u0641\\u0643\\u0631\\u064a\\u0627\\u064b \\u0648\\u062d\\u062a\\u0649 \\u062c\\u0633\\u062f\\u064a\\u0627\\u064b \\u0643\\u0628\\u064a\\u0631\\u0627\\u064b\\u060c \\u0641\\u0639\\u0644\\u064a\\u0647 \\u0623\\u0646 \\u064a\\u0624\\u0644\\u0641 \\u0639\\u0627\\u0644\\u0645\\u0627\\u064b \\u0645\\u062a\\u0643\\u0627\\u0645\\u0644\\u0627\\u064b \\u0628\\u0643\\u0644 \\u062a\\u0641\\u0627\\u0635\\u064a\\u0644\\u0647 \\u0648\\u064a\\u062a\\u062e\\u064a\\u0644 \\u0643\\u0644 \\u0630\\u0644\\u0643\\u060c \\u062b\\u0645 \\u0625\\u0646 \\u0627\\u0644\\u062c\\u0644\\u0648\\u0633 \\u0644\\u0641\\u062a\\u0631\\u0627\\u062a \\u0637\\u0648\\u064a\\u0644\\u0629 \\u0623\\u0645\\u0627\\u0645 \\u0627\\u0644\\u062d\\u0627\\u0633\\u0648\\u0628 \\u0623\\u0645\\u0631 \\u0645\\u0631\\u0647\\u0642 \\u0644\\u0644\\u0639\\u064a\\u0646\\u064a\\u0646 \\u0648\\u0627\\u0644\\u0638\\u0647\\u0631\\u060c \\u0623\\u0636\\u064a\\u0641\\u064a \\u0625\\u0644\\u0649 \\u0630\\u0644\\u0643 \\u0627\\u0644\\u062a\\u063a\\u0644\\u0628 \\u0639\\u0644\\u0649 \\u0627\\u0644\\u0623\\u0641\\u0643\\u0627\\u0631 \\u0627\\u0644\\u0633\\u0644\\u0628\\u064a\\u0629 \\u0627\\u0644\\u062a\\u064a \\u062a\\u062f\\u0639\\u0648\\u0647 \\u0644\\u0644\\u0631\\u0627\\u062d\\u0629 \\u0648\\u062a\\u0631\\u0643 \\u0627\\u0644\\u0639\\u0645\\u0644\\u060c \\u0641\\u0625\\u0646 \\u0646\\u062c\\u062d \\u0641\\u064a \\u0630\\u0644\\u0643 \\u0633\\u064a\\u0643\\u0648\\u0646 \\u0627\\u0644\\u0628\\u0627\\u0642\\u064a \\u0623\\u0633\\u0647\\u0644 \\u0644\\u0643\\u0646 \\u0644\\u0627 \\u064a\\u062e\\u0644\\u0648 \\u0645\\u0646 \\u0627\\u0644\\u062a\\u062d\\u062f\\u064a\\u060c \\u0641\\u0627\\u0644\\u0628\\u062d\\u062b \\u0639\\u0646 \\u0646\\u0627\\u0634\\u0631 \\u064a\\u0642\\u0628\\u0644 \\u0628\\u0646\\u0634\\u0631 \\u0627\\u0644\\u0639\\u0645\\u0644 \\u0623\\u0645\\u0631 \\u0645\\u062a\\u0639\\u0628\\u060c \\u0648\\u0625\\u0646 \\u0642\\u0628\\u0644 \\u0623\\u062d\\u062f\\u0647\\u0645 \\u0628\\u0627\\u0644\\u0639\\u0645\\u0644 \\u0641\\u0625\\u0646\\u0647 \\u0641\\u064a \\u0627\\u0644\\u063a\\u0627\\u0644\\u0628 \\u064a\\u0637\\u0644\\u0628 \\u0627\\u0644\\u0643\\u062b\\u064a\\u0631 \\u0645\\u0646 \\u0627\\u0644\\u062a\\u0635\\u062d\\u064a\\u062d \\u0648\\u0627\\u0644\\u062a\\u063a\\u064a\\u064a\\u0631\\u060c \\u0648\\u0645\\u0646\\u0647\\u0645 \\u0645\\u0646 \\u064a\\u0637\\u0627\\u0644\\u0628 \\u0627\\u0644\\u0643\\u0627\\u062a\\u0628 \\u0628\\u0627\\u0633\\u062a\\u062e\\u0631\\u0627\\u062c \\u0627\\u0644\\u0623\\u0648\\u0631\\u0627\\u0642 \\u0627\\u0644\\u0631\\u0633\\u0645\\u064a\\u0629 \\u0644\\u0644\\u0639\\u0645\\u0644 \\u0628\\u0646\\u0641\\u0633\\u0647 \\u0645\\u0627 \\u064a\\u062c\\u0644\\u0628 \\u0627\\u0644\\u0645\\u0634\\u0642\\u0629 \\u0648\\u0627\\u0644\\u0639\\u0646\\u0627\\u0621\\u060c \\u0648\\u0628\\u0639\\u062f \\u0643\\u0644 \\u0630\\u0644\\u0643 \\u064a\\u0642\\u0648\\u0645 \\u0627\\u0644\\u0646\\u0627\\u0634\\u0631 \\u0628\\u062a\\u062c\\u0647\\u064a\\u0632 \\u0627\\u0644\\u0646\\u0633\\u062e\\u0629 \\u0644\\u0644\\u0643\\u062a\\u0627\\u0628\\u0629 \\u0648\\u064a\\u0631\\u0633\\u0644\\u0647\\u0627 \\u0644\\u0644\\u0643\\u0627\\u062a\\u0628 \\u0644\\u064a\\u0631\\u0627\\u062c\\u0639\\u0647\\u0627 \\u0645\\u062c\\u062f\\u062f\\u0627\\u064b \\u0648\\u0644\\u0644\\u0645\\u0631\\u0629 \\u0627\\u0644\\u0623\\u062e\\u064a\\u0631\\u0629 \\u0648\\u064a\\u0645\\u0647\\u0644\\u0647 \\u0641\\u062a\\u0631\\u0629 \\u0644\\u0627 \\u062a\\u062a\\u0639\\u062f\\u0649 \\u0627\\u0644\\u062e\\u0645\\u0633\\u0629 \\u0639\\u0634\\u0631 \\u064a\\u0648\\u0645\\u0627\\u064b \\u0641\\u064a \\u0623\\u063a\\u0644\\u0628 \\u0627\\u0644\\u0623\\u062d\\u064a\\u0627\\u0646\\u060c \\u0648\\u062a\\u0643\\u0648\\u0646 \\u0647\\u064a \\u0627\\u0644\\u0641\\u0631\\u0635\\u0629 \\u0627\\u0644\\u0623\\u062e\\u064a\\u0631\\u0629 \\u0644\\u0644\\u0643\\u0627\\u062a\\u0628 \\u0644\\u0625\\u062c\\u0631\\u0627\\u0621 \\u0627\\u0644\\u062a\\u063a\\u064a\\u064a\\u0631\\u0627\\u062a\\u060c \\u0645\\u0627 \\u064a\\u062f\\u0641\\u0639\\u0647 \\u0644\\u0644\\u0627\\u0646\\u0634\\u063a\\u0627\\u0644 \\u0641\\u064a \\u0647\\u0630\\u0647 \\u0627\\u0644\\u0641\\u062a\\u0631\\u0629 \\u0648\\u0627\\u0644\\u063a\\u0631\\u0642 \\u0641\\u064a \\u0639\\u0645\\u0644\\u0647 \\u0625\\u0644\\u0649 \\u062c\\u0627\\u0646\\u0628 \\u0623\\u0639\\u0628\\u0627\\u0621 \\u062d\\u064a\\u0627\\u062a\\u0647 \\u0627\\u0644\\u064a\\u0648\\u0645\\u064a\\u0629 \\u0645\\u0646 \\u0639\\u0645\\u0644\\u064d \\u0648\\u0639\\u0627\\u0626\\u0644\\u0629\\u060c \\u0648\\u0647\\u0630\\u0627 \\u0641\\u064a \\u062d\\u062f \\u0630\\u0627\\u062a\\u0647 \\u064a\\u0634\\u0643\\u0644 \\u0636\\u063a\\u0637\\u0627\\u064b \\u0643\\u0628\\u064a\\u0631\\u0627\\u064b \\u0639\\u0644\\u064a\\u0647 \\u0648\\u0645\\u062f\\u0639\\u0627\\u0629 \\u0644\\u0644\\u062a\\u0631\\u0627\\u062c\\u0639\\u060c \\u0644\\u0643\\u0646 \\u0645\\u0627 \\u0623\\u0646 \\u064a\\u062a\\u0645 \\u0637\\u0628\\u0627\\u0639\\u0629 \\u0627\\u0644\\u0639\\u0645\\u0644 \\u0648\\u064a\\u0645\\u0633\\u0643\\u0647 \\u0627\\u0644\\u0643\\u0627\\u062a\\u0628 \\u0628\\u064a\\u0646 \\u064a\\u062f\\u064a\\u0647 \\u062d\\u062a\\u0649 \\u064a\\u062a\\u0628\\u062f\\u0644 \\u0627\\u0644\\u062a\\u0639\\u0628 \\u0625\\u0644\\u0649 \\u0633\\u0631\\u0648\\u0631\\u064d \\u063a\\u0627\\u0645\\u0631\\u060c \\u0647\\u0648 \\u0634\\u0639\\u0648\\u0631 \\u064a\\u0634\\u0628\\u0647 \\u0625\\u0644\\u0649 \\u062d\\u062f \\u0643\\u0628\\u064a\\u0631 \\u0627\\u0644\\u0634\\u0639\\u0648\\u0631 \\u0628\\u0648\\u0644\\u0627\\u062f\\u0629 \\u0637\\u0641\\u0644.\",\n          \"\\u0623\\u0628\\u0648\\u0638\\u0628\\u064a - \\u0639\\u0644\\u064a \\u0623\\u0633\\u0639\\u062f:\\u062d\\u0642\\u0642\\u062a \\u0627\\u0644\\u0623\\u0633\\u0647\\u0645 \\u0645\\u0643\\u0627\\u0633\\u0628 \\u062c\\u062f\\u064a\\u062f\\u0629 \\u0641\\u064a \\u0642\\u064a\\u0645\\u062a\\u0647\\u0627 \\u0627\\u0644\\u0633\\u0648\\u0642\\u064a\\u0629 \\u0628\\u0642\\u064a\\u0645\\u0629 239 \\u0645\\u0644\\u064a\\u0648\\u0646 \\u062f\\u0631\\u0647\\u0645 \\u0644\\u062a\\u0631\\u062a\\u0641\\u0639 \\u0625\\u0644\\u0649 54 .803 \\u0645\\u0644\\u064a\\u0627\\u0631 \\u062f\\u0631\\u0647\\u0645\\u060c \\u0648\\u0633\\u0637 \\u062a\\u062d\\u0633\\u0646 \\u062c\\u064a\\u062f \\u0641\\u064a \\u0627\\u0644\\u0633\\u064a\\u0648\\u0644\\u0629 \\u0627\\u0644\\u062a\\u064a \\u062a\\u062c\\u0627\\u0648\\u0632\\u062a 267 .2 \\u0645\\u0644\\u064a\\u0627\\u0631 \\u062f\\u0631\\u0647\\u0645\\u060c \\u0648\\u0627\\u0633\\u062a\\u062d\\u0648\\u0630 \\u0633\\u0647\\u0645 \\u0623\\u0631\\u0627\\u0628\\u062a\\u0643 \\u0627\\u0644\\u0642\\u0627\\u0628\\u0636\\u0629 \\u0639\\u0644\\u0649 1 .51% \\u0645\\u0646 \\u0625\\u062c\\u0645\\u0627\\u0644\\u064a \\u0627\\u0644\\u062a\\u062f\\u0627\\u0648\\u0644 \\u0641\\u064a \\u0633\\u0648\\u0642\\u064a \\u0623\\u0628\\u0648\\u0638\\u0628\\u064a \\u0648\\u062f\\u0628\\u064a \\u0627\\u0644\\u0645\\u0627\\u0644\\u064a\\u064a\\u0646\\u060c \\u0648\\u0647\\u0648 \\u0645\\u0627 \\u0623\\u062f\\u0649 \\u0625\\u0644\\u0649 \\u0636\\u063a\\u0637 \\u0627\\u0644\\u062a\\u062f\\u0627\\u0648\\u0644 \\u0639\\u0644\\u0649 \\u0627\\u0644\\u0639\\u062f\\u064a\\u062f \\u0645\\u0646 \\u0627\\u0644\\u0623\\u0633\\u0647\\u0645 \\u0628\\u0639\\u062f \\u0642\\u064a\\u0627\\u0645 \\u0645\\u0633\\u062a\\u062b\\u0645\\u0631\\u064a\\u0646 \\u0628\\u0627\\u0644\\u062a\\u0633\\u064a\\u064a\\u0644 \\u0639\\u0644\\u0649 \\u0628\\u0639\\u0636 \\u0627\\u0644\\u0623\\u0633\\u0647\\u0645 \\u0644\\u0634\\u0631\\u0627\\u0621 \\\"\\u0623\\u0631\\u0627\\u0628\\u062a\\u0643\\\" \\u0627\\u0644\\u0630\\u064a \\u0623\\u063a\\u0644\\u0642 \\u0639\\u0644\\u0649 \\u0627\\u0631\\u062a\\u0641\\u0627\\u0639 \\u0628\\u0646\\u0633\\u0628\\u0629 81 .4% \\u0639\\u0646\\u062f 79 .4 \\u062f\\u0631\\u0647\\u0645 \\u0645\\u062a\\u0623\\u062b\\u0631\\u0627\\u064b \\u0628\\u062a\\u0648\\u0642\\u0639\\u0627\\u062a \\u0628\\u0639\\u0636 \\u0627\\u0644\\u0645\\u0633\\u062a\\u062b\\u0645\\u0631\\u064a\\u0646 \\u0628\\u0642\\u064a\\u0627\\u0645 \\u062d\\u0633\\u0646 \\u0623\\u0633\\u0645\\u064a\\u0643 \\u0627\\u0644\\u0631\\u0626\\u064a\\u0633 \\u0627\\u0644\\u062a\\u0646\\u0641\\u064a\\u0630\\u064a \\u0627\\u0644\\u0633\\u0627\\u0628\\u0642 \\u0644\\u0644\\u0634\\u0631\\u0643\\u0629 \\u0628\\u0628\\u064a\\u0639 \\u062b\\u0644\\u062b \\u062d\\u0635\\u062a\\u0647 \\u0641\\u064a \\u0627\\u0644\\u0634\\u0631\\u0643\\u0629 \\u0628\\u0633\\u0639\\u0631 5 \\u062f\\u0631\\u0627\\u0647\\u0645 \\u0644\\u0644\\u0633\\u0647\\u0645 \\u0627\\u0644\\u0648\\u0627\\u062d\\u062f .\\u0648\\u0627\\u0631\\u062a\\u0641\\u0639 \\u0645\\u0624\\u0634\\u0631 \\u0633\\u0648\\u0642 \\u062f\\u0628\\u064a \\u0627\\u0644\\u0645\\u0627\\u0644\\u064a 23 .0% \\u0639\\u0646\\u062f \\u0645\\u0633\\u062a\\u0648\\u0649 13 .4986 \\u0646\\u0642\\u0637\\u0629\\u060c \\u0648\\u0645\\u0624\\u0634\\u0631 \\u0633\\u0648\\u0642 \\u0623\\u0628\\u0648\\u0638\\u0628\\u064a 26 .0% \\u0639\\u0646\\u062f \\u0645\\u0633\\u062a\\u0648\\u0649 82 .5128 \\u0646\\u0642\\u0637\\u0629 . \\u0648\\u0627\\u0631\\u062a\\u0641\\u0639 \\u0645\\u0624\\u0634\\u0631 \\u0633\\u0648\\u0642 \\u0627\\u0644\\u0625\\u0645\\u0627\\u0631\\u0627\\u062a 03 .0% \\u0639\\u0646\\u062f 12 .5350 \\u0646\\u0642\\u0637\\u0629 \\u0628\\u062f\\u0639\\u0645 \\u0631\\u0626\\u064a\\u0633 \\u0645\\u0646 \\u0623\\u0633\\u0647\\u0645 \\u0634\\u0631\\u0643\\u0627\\u062a \\u0627\\u0644\\u0639\\u0642\\u0627\\u0631 \\u0648\\u0627\\u0644\\u0635\\u0646\\u0627\\u0639\\u0629 \\u0648\\u0627\\u0644\\u062a\\u0623\\u0645\\u064a\\u0646 \\u0627\\u0644\\u062a\\u064a \\u0627\\u0631\\u062a\\u0641\\u0639\\u062a \\u0645\\u0624\\u0634\\u0631\\u0627\\u062a\\u0647\\u0627 \\u0627\\u0644\\u0642\\u0637\\u0627\\u0639\\u064a\\u0629 \\u0628\\u0646\\u0633\\u0628 \\u0645\\u062a\\u0641\\u0627\\u0648\\u062a\\u0629 \\u0623\\u0643\\u062b\\u0631\\u0647\\u0627 \\u0627\\u0631\\u062a\\u0641\\u0627\\u0639\\u0627\\u064b \\u0645\\u0624\\u0634\\u0631 \\u0627\\u0644\\u0639\\u0642\\u0627\\u0631 \\u0628\\u0646\\u0633\\u0628\\u0629 877 .0% . \\u0648\\u062a\\u0645 \\u062a\\u062f\\u0627\\u0648\\u0644 \\u0623\\u0633\\u0647\\u0645 65 \\u0634\\u0631\\u0643\\u0629 \\u0628\\u0645\\u0642\\u062f\\u0627\\u0631 27 .748 \\u0645\\u0644\\u064a\\u0648\\u0646 \\u0633\\u0647\\u0645 \\u0646\\u0641\\u0630\\u062a \\u0645\\u0646 \\u062e\\u0644\\u0627\\u0644 11991 \\u0635\\u0641\\u0642\\u0629 \\u0628\\u0642\\u064a\\u0645\\u0629 267 .2 \\u0645\\u0644\\u064a\\u0627\\u0631 \\u062f\\u0631\\u0647\\u0645\\u060c \\u0648\\u0627\\u0633\\u062a\\u062d\\u0648\\u0630\\u062a \\u0623\\u0633\\u0647\\u0645 \\u0634\\u0631\\u0643\\u0627\\u062a \\u0627\\u0644\\u0639\\u0642\\u0627\\u0631 \\u0639\\u0644\\u0649 \\u0627\\u0644\\u062d\\u0635\\u0629 \\u0627\\u0644\\u0623\\u0643\\u0628\\u0631 \\u0645\\u0646 \\u0627\\u0644\\u0633\\u064a\\u0648\\u0644\\u0629 \\u0628\\u0642\\u064a\\u0645\\u0629 805 .1 \\u0645\\u0644\\u064a\\u0627\\u0631 \\u062f\\u0631\\u0647\\u0645 .\\u0648\\u062a\\u0635\\u062f\\u0631 \\u0633\\u0647\\u0645 \\u0623\\u0631\\u0627\\u0628\\u062a\\u0643 \\u0642\\u0627\\u0626\\u0645\\u0629 \\u0627\\u0644\\u0623\\u0633\\u0647\\u0645 \\u0627\\u0644\\u0623\\u0643\\u062b\\u0631 \\u062a\\u062f\\u0627\\u0648\\u0644\\u0627\\u064b \\u0628\\u0642\\u064a\\u0645\\u0629 159 .1 \\u0645\\u0644\\u064a\\u0627\\u0631 \\u062f\\u0631\\u0647\\u0645\\u060c \\u0648\\u0623\\u063a\\u0644\\u0642 \\u0633\\u0639\\u0631 \\u0627\\u0644\\u0633\\u0647\\u0645 \\u0639\\u0644\\u0649 \\u0627\\u0631\\u062a\\u0641\\u0627\\u0639 \\u0628\\u0646\\u0633\\u0628\\u0629 81 .4% \\u0639\\u0646\\u062f 79 .4 \\u062f\\u0631\\u0647\\u0645\\u060c \\u0648\\u0646\\u0641\\u0630\\u062a \\u0635\\u0641\\u0642\\u0627\\u062a \\u0639\\u0644\\u0649 \\u0627\\u0644\\u0633\\u0647\\u0645 \\u0639\\u0646\\u062f \\u0633\\u0639\\u0631 94 .4 \\u062f\\u0631\\u0647\\u0645\\u060c \\u0648\\u0647\\u0648 \\u0623\\u0639\\u0644\\u0649 \\u0633\\u0639\\u0631 \\u0646\\u0641\\u0630 \\u0639\\u0644\\u064a\\u0629 \\u062e\\u0644\\u0627\\u0644 \\u062c\\u0644\\u0633\\u0629 \\u064a\\u0648\\u0645 \\u0623\\u0645\\u0633\\u060c \\u0648\\u0639\\u0627\\u062f \\u0627\\u0644\\u0633\\u0647\\u0645 \\u0648\\u062a\\u0631\\u0627\\u062c\\u0639 \\u0625\\u0644\\u0649 79 .4 \\u062f\\u0631\\u0647\\u0645 \\u062a\\u062d\\u062a \\u0636\\u063a\\u0637 \\u0639\\u0645\\u0644\\u064a\\u0627\\u062a \\u062c\\u0646\\u064a \\u0627\\u0644\\u0623\\u0631\\u0628\\u0627\\u062d \\u062e\\u0644\\u0627\\u0644 \\u0627\\u0644\\u062c\\u0644\\u0633\\u0629 \\u0646\\u0641\\u0633\\u0647\\u0627 . \\u0648\\u062c\\u0627\\u0621 \\u0633\\u0647\\u0645 \\u0627\\u0644\\u062f\\u0627\\u0631 \\u0627\\u0644\\u0639\\u0642\\u0627\\u0631\\u064a\\u0629 \\u0641\\u064a \\u0627\\u0644\\u0645\\u0631\\u0643\\u0632 \\u0627\\u0644\\u062b\\u0627\\u0646\\u064a \\u0628\\u062a\\u062f\\u0627\\u0648\\u0644 2 .268 \\u0645\\u0644\\u064a\\u0648\\u0646 \\u062f\\u0631\\u0647\\u0645\\u060c \\u0648\\u0627\\u0631\\u062a\\u0641\\u0639 \\u0633\\u0639\\u0631 \\u0627\\u0644\\u0633\\u0647\\u0645 8 \\u0641\\u0644\\u0648\\u0633 \\u0639\\u0646\\u062f 02 .4 \\u062f\\u0631\\u0647\\u0645 . \\u0648\\u062c\\u0627\\u0621 \\u0633\\u0647\\u0645 \\u0625\\u0639\\u0645\\u0627\\u0631 \\u0627\\u0644\\u0639\\u0642\\u0627\\u0631\\u064a\\u0629 \\u0641\\u064a \\u0627\\u0644\\u0645\\u0631\\u0643\\u0632 \\u0627\\u0644\\u062b\\u0627\\u0644\\u062b \\u0628\\u062a\\u062f\\u0627\\u0648\\u0644 8 .125 \\u0645\\u0644\\u064a\\u0648\\u0646 \\u062f\\u0631\\u0647\\u0645\\u060c \\u0648\\u062a\\u0631\\u0627\\u062c\\u0639 \\u0627\\u0644\\u0633\\u0647\\u0645 5 \\u0641\\u0644\\u0648\\u0633 \\u0646\\u062d\\u0648 48 .0% \\u0639\\u0646\\u062f 4 .10 \\u062f\\u0631\\u0647\\u0645 . \\u0648\\u0627\\u062d\\u062a\\u0644 \\u0633\\u0647\\u0645 \\u0627\\u0644\\u0627\\u062a\\u062d\\u0627\\u062f \\u0627\\u0644\\u0639\\u0642\\u0627\\u0631\\u064a\\u0629 \\u0627\\u0644\\u0645\\u0631\\u0643\\u0632 \\u0627\\u0644\\u0631\\u0627\\u0628\\u0639 \\u0628\\u062a\\u062f\\u0627\\u0648\\u0644 123 \\u0645\\u0644\\u064a\\u0648\\u0646 \\u062f\\u0631\\u0647\\u0645 \\u0648\\u062a\\u0631\\u0627\\u062c\\u0639 \\u0627\\u0644\\u0633\\u0647\\u0645 \\u0641\\u0644\\u0633\\u0627\\u064b \\u0648\\u0627\\u062d\\u062f\\u0627\\u064b \\u0646\\u062d\\u0648 44 .0% \\u0639\\u0646\\u062f 28 .2 \\u062f\\u0631\\u0647\\u0645 . \\u0648\\u062c\\u0627\\u0621 \\u0633\\u0647\\u0645 \\u0633\\u0648\\u0642 \\u062f\\u0628\\u064a \\u0627\\u0644\\u0645\\u0627\\u0644\\u064a \\u0641\\u064a \\u0627\\u0644\\u0645\\u0631\\u0643\\u0632 \\u0627\\u0644\\u062e\\u0627\\u0645\\u0633 \\u0628\\u062a\\u062f\\u0627\\u0648\\u0644 3 .83 \\u0645\\u0644\\u064a\\u0648\\u0646 \\u062f\\u0631\\u0647\\u0645\\u060c \\u0648\\u062a\\u0631\\u0627\\u062c\\u0639 \\u0627\\u0644\\u0633\\u0647\\u0645 14 .1 % \\u0639\\u0646\\u062f 47 .3 \\u062f\\u0631\\u0647\\u0645 .\\u0648\\u062a\\u0635\\u062f\\u0631 \\u0633\\u0647\\u0645 \\u062f\\u0628\\u064a \\u0627\\u0644\\u0648\\u0637\\u0646\\u064a\\u0629 \\u0644\\u0644\\u062a\\u0623\\u0645\\u064a\\u0646 \\u0642\\u0627\\u0626\\u0645\\u0629 \\u0627\\u0644\\u0623\\u0633\\u0647\\u0645 \\u0627\\u0644\\u0623\\u0643\\u062b\\u0631 \\u0627\\u0631\\u062a\\u0641\\u0627\\u0639\\u0627\\u064b \\u0641\\u064a \\u0627\\u0644\\u0623\\u0633\\u0639\\u0627\\u0631\\u060c \\u0648\\u0635\\u0639\\u062f \\u0627\\u0644\\u0633\\u0647\\u0645 \\u0628\\u0627\\u0644\\u062d\\u062f \\u0627\\u0644\\u0623\\u0639\\u0644\\u0649 71 .14% \\u0639\\u0646\\u062f 9 .3 \\u062f\\u0631\\u0647\\u0645 \\u0645\\u062d\\u0642\\u0642\\u0627\\u064b \\u0645\\u0643\\u0627\\u0633\\u0628 \\u0645\\u0642\\u062f\\u0627\\u0631\\u0647\\u0627 50 \\u0641\\u0644\\u0633\\u0627\\u064b \\u0648\\u0633\\u0637 \\u062a\\u062f\\u0627\\u0648\\u0644\\u0627\\u062a \\u0636\\u0639\\u064a\\u0641\\u0629 \\u0628\\u0644\\u063a\\u062a \\u0623\\u0642\\u0644 \\u0645\\u0646 2000 \\u062f\\u0631\\u0647\\u0645 \\u0641\\u0642\\u0637 . \\u0643\\u0645\\u0627 \\u0627\\u0631\\u062a\\u0641\\u0639 \\u0633\\u0647\\u0645 \\u0627\\u0644\\u0647\\u0644\\u0627\\u0644 \\u0627\\u0644\\u0623\\u062e\\u0636\\u0631 \\u0644\\u0644\\u062a\\u0623\\u0645\\u064a\\u0646 12 .6% \\u0625\\u0644\\u0649 4_ .1 \\u062f\\u0631\\u0647\\u0645 . \\u0648\\u0641\\u064a \\u0627\\u0644\\u0645\\u0642\\u0627\\u0628\\u0644 \\u062a\\u0635\\u062f\\u0631 \\u0633\\u0647\\u0645 \\\"\\u0623\\u0631\\u064a\\u062c\\\" \\u0642\\u0627\\u0626\\u0645\\u0629 \\u0627\\u0644\\u0623\\u0633\\u0647\\u0645 \\u0627\\u0644\\u0623\\u0643\\u062b\\u0631 \\u062a\\u0631\\u0627\\u062c\\u0639\\u0627\\u064b \\u0641\\u064a \\u0627\\u0644\\u0623\\u0633\\u0639\\u0627\\u0631\\u060c \\u0648\\u0647\\u0628\\u0637 \\u0627\\u0644\\u0633\\u0647\\u0645 \\u0628\\u0627\\u0644\\u062d\\u062f \\u0627\\u0644\\u0623\\u062f\\u0646\\u0649 10% \\u0639\\u0646\\u062f 97 .2 \\u062f\\u0631\\u0647\\u0645 . \\u0643\\u0645\\u0627 \\u0647\\u0628\\u0637 \\u0633\\u0647\\u0645 \\u0627\\u0644\\u0628\\u0646\\u0643 \\u0627\\u0644\\u0639\\u0631\\u0628\\u064a \\u0627\\u0644\\u0645\\u062a\\u062d\\u062f 43 .8% \\u0639\\u0646\\u062f 41 .6 \\u062f\\u0631\\u0647\\u0645 .\\u0648\\u0627\\u062a\\u062c\\u0647 \\u0627\\u0644\\u0645\\u0633\\u062a\\u062b\\u0645\\u0631\\u0648\\u0646 \\u0627\\u0644\\u0645\\u0648\\u0627\\u0637\\u0646\\u0648\\u0646 \\u062e\\u0644\\u0627\\u0644 \\u062c\\u0644\\u0633\\u0629 \\u0623\\u0645\\u0633 \\u0646\\u062d\\u0648 \\u0634\\u0631\\u0627\\u0621 \\u0627\\u0644\\u0623\\u0633\\u0647\\u0645 \\u0628\\u0642\\u064a\\u0645\\u0629 437 .1 \\u0645\\u0644\\u064a\\u0627\\u0631 \\u062f\\u0631\\u0647\\u0645\\u060c \\u0648\\u0628\\u0644\\u063a\\u062a \\u0645\\u0628\\u064a\\u0639\\u0627\\u062a\\u0647\\u0645 376 .1 \\u0645\\u0644\\u064a\\u0627\\u0631 \\u062f\\u0631\\u0647\\u0645\\u060c \\u0648\\u0648\\u0635\\u0644 \\u0635\\u0627\\u0641\\u064a \\u0627\\u0633\\u062a\\u062b\\u0645\\u0627\\u0631\\u062a\\u0647\\u0645 \\u0625\\u0644\\u0649 6 .60 \\u0645\\u0644\\u064a\\u0648\\u0646 \\u062f\\u0631\\u0647\\u0645 \\u0645\\u062d\\u0635\\u0644\\u0629 \\u0634\\u0631\\u0627\\u0621 . \\u0643\\u0645\\u0627 \\u0627\\u062a\\u062c\\u0647 \\u0627\\u0644\\u0645\\u0633\\u062a\\u062b\\u0645\\u0631\\u0648\\u0646 \\u0627\\u0644\\u0623\\u062c\\u0627\\u0646\\u0628 \\u0645\\u0646 \\u063a\\u064a\\u0631 \\u0627\\u0644\\u0639\\u0631\\u0628 \\u0646\\u062d\\u0648 \\u0634\\u0631\\u0627\\u0621 \\u0627\\u0644\\u0623\\u0633\\u0647\\u0645 \\u0628\\u0642\\u064a\\u0645\\u0629 8 .267 \\u0645\\u0644\\u064a\\u0648\\u0646 \\u062f\\u0631\\u0647\\u0645\\u060c \\u0648\\u0628\\u0644\\u063a\\u062a \\u0645\\u0628\\u064a\\u0639\\u0627\\u062a\\u0647\\u0645 7 .237 \\u0645\\u0644\\u064a\\u0648\\u0646 \\u062f\\u0631\\u0647\\u0645\\u060c \\u0648\\u0648\\u0635\\u0644 \\u0635\\u0627\\u0641\\u064a \\u0627\\u0633\\u062a\\u062b\\u0645\\u0627\\u0631\\u0627\\u062a\\u0647\\u0645 \\u0625\\u0644\\u0649 2 .30 \\u0645\\u0644\\u064a\\u0648\\u0646 \\u062f\\u0631\\u0647\\u0645 \\u0645\\u062d\\u0635\\u0644\\u0629 \\u0634\\u0631\\u0627\\u0621 . \\u0648\\u0631\\u0643\\u0632 \\u0627\\u0644\\u0645\\u0633\\u062a\\u062b\\u0645\\u0631\\u0648\\u0646 \\u0627\\u0644\\u0623\\u062c\\u0627\\u0646\\u0628 \\u0645\\u0634\\u062a\\u0631\\u064a\\u0627\\u062a\\u0647\\u0645 \\u0639\\u0644\\u0649 \\u0623\\u0633\\u0647\\u0645 \\u0645\\u062d\\u062f\\u062f\\u0629\\u060c \\u0648\\u0632\\u0627\\u062f\\u0648\\u0627 \\u0645\\u0644\\u0643\\u064a\\u062a\\u0647\\u0645 \\u0641\\u064a \\u0627\\u0644\\u0627\\u062a\\u062d\\u0627\\u062f \\u0627\\u0644\\u0639\\u0642\\u0627\\u0631\\u064a\\u0629 \\u0628\\u0645\\u0642\\u062f\\u0627\\u0631 5 .3 \\u0645\\u0644\\u064a\\u0648\\u0646 \\u0633\\u0647\\u0645\\u060c \\u0648\\u0641\\u064a \\u0631\\u0623\\u0633 \\u0627\\u0644\\u062e\\u064a\\u0645\\u0629 \\u0628\\u0645\\u0642\\u062f\\u0627\\u063199 .2 \\u0645\\u0644\\u064a\\u0648\\u0646 \\u0633\\u0647\\u0645\\u060c \\u0648\\u0641\\u064a \\u0625\\u0639\\u0645\\u0627\\u0631 \\u0627\\u0644\\u0639\\u0642\\u0627\\u0631\\u064a\\u0629 \\u0628\\u0645\\u0642\\u062f\\u0627\\u0631 7 .2 \\u0645\\u0644\\u064a\\u0648\\u0646 \\u0633\\u0647\\u0645\\u060c \\u0648\\u0641\\u064a \\u0627\\u0644\\u062f\\u0627\\u0631 \\u0627\\u0644\\u0639\\u0642\\u0627\\u0631\\u064a\\u0629 \\u0628\\u0645\\u0642\\u062f\\u0627\\u0631 4 .1 \\u0645\\u0644\\u064a\\u0648\\u0646 \\u0633\\u0647\\u0645 . \\u0648\\u0641\\u064a \\u0627\\u0644\\u0645\\u0642\\u0627\\u0628\\u0644 \\u062e\\u0641\\u0636\\u0648\\u0627 \\u0645\\u0644\\u0643\\u064a\\u062a\\u0647\\u0645 \\u0641\\u064a \\u0623\\u0631\\u0627\\u0628\\u062a\\u0643 \\u0628\\u0645\\u0642\\u062f\\u0627\\u0631 7 .5 \\u0645\\u0644\\u064a\\u0648\\u0646 \\u0633\\u0647\\u0645\\u060c \\u0648\\u0641\\u064a \\u062f\\u0628\\u064a \\u0627\\u0644\\u0645\\u0627\\u0644\\u064a \\u0628\\u0645\\u0642\\u062f\\u0627\\u0631 4 .2 \\u0645\\u0644\\u064a\\u0648\\u0646 \\u0633\\u0647\\u0645\\u060c \\u0648\\u0641\\u064a \\u0633\\u064a\\u0631\\u0627\\u0645\\u064a\\u0643 \\u0631\\u0623\\u0633 \\u0627\\u0644\\u062e\\u064a\\u0645\\u0629 \\u0628\\u0645\\u0642\\u062f\\u0627\\u0631 4 .640 \\u0623\\u0644\\u0641 \\u0633\\u0647\\u0645 .\\u0648\\u0627\\u062a\\u062c\\u0647 \\u0627\\u0644\\u0645\\u0633\\u062a\\u062b\\u0645\\u0631\\u0648\\u0646 \\u0627\\u0644\\u062e\\u0644\\u064a\\u062c\\u064a\\u0648\\u0646 \\u0648\\u0627\\u0644\\u0639\\u0631\\u0628 \\u0646\\u062d\\u0648 \\u0628\\u064a\\u0639 \\u0627\\u0644\\u0623\\u0633\\u0647\\u0645\\u060c \\u0648\\u0634\\u0643\\u0644\\u062a \\u0645\\u0628\\u064a\\u0639\\u0627\\u062a\\u0647\\u0645 \\u0636\\u063a\\u0648\\u0637\\u0627\\u064b \\u0639\\u0644\\u0649 \\u062d\\u0631\\u0643\\u0629 \\u0627\\u0644\\u0623\\u0633\\u0648\\u0627\\u0642\\u060c \\u0648\\u0628\\u0644\\u063a \\u0635\\u0627\\u0641\\u064a \\u0627\\u0633\\u062a\\u062b\\u0645\\u0627\\u0631\\u0627\\u062a \\u0627\\u0644\\u0639\\u0631\\u0628 7 .27 \\u0645\\u0644\\u064a\\u0648\\u0646 \\u0633\\u0647\\u0645 \\u0645\\u062d\\u0635\\u0644\\u0629 \\u0628\\u064a\\u0639\\u060c \\u0641\\u064a\\u0645\\u0627 \\u0628\\u0644\\u063a \\u0635\\u0627\\u0641\\u064a \\u0627\\u0633\\u062a\\u062b\\u0645\\u0627\\u0631\\u0627\\u062a \\u0627\\u0644\\u062e\\u0644\\u064a\\u062c\\u064a\\u064a\\u0646 1 .63 \\u0645\\u0644\\u064a\\u0648\\u0646 \\u0633\\u0647\\u0645 \\u0645\\u062d\\u0635\\u0644\\u0629 \\u0628\\u064a\\u0639 . \\u0628\\u062f\\u0648\\u0631\\u0647\\u0627 \\u0627\\u062a\\u062c\\u0647\\u062a \\u0627\\u0644\\u0645\\u062d\\u0627\\u0641\\u0638 \\u0627\\u0644\\u0627\\u0633\\u062a\\u062b\\u0645\\u0627\\u0631\\u064a\\u0629 \\u0646\\u062d\\u0648 \\u0628\\u064a\\u0639 \\u0627\\u0644\\u0623\\u0633\\u0647\\u0645 \\u0648\\u0634\\u0643\\u0644\\u062a \\u0645\\u0628\\u064a\\u0639\\u0627\\u062a\\u0647\\u0627 \\u0627\\u0644\\u0628\\u0627\\u0644\\u063a\\u0629 3 .490 \\u0645\\u0644\\u064a\\u0648\\u0646 \\u062f\\u0631\\u0647\\u0645 \\u0636\\u063a\\u0648\\u0637\\u0627\\u064b \\u0639\\u0644\\u0649 \\u062d\\u0631\\u0643\\u0629 \\u0627\\u0644\\u0623\\u0633\\u0648\\u0627\\u0642\\u060c \\u0641\\u064a\\u0645\\u0627 \\u0628\\u0644\\u063a\\u062a \\u0645\\u0634\\u062a\\u0631\\u064a\\u0627\\u062a\\u0647\\u0627 7 .382 \\u0645\\u0644\\u064a\\u0648\\u0646 \\u062f\\u0631\\u0647\\u0645\\u060c \\u0648\\u0648\\u0635\\u0644 \\u0635\\u0627\\u0641\\u064a \\u0627\\u0633\\u062a\\u062b\\u0645\\u0627\\u0631\\u0627\\u062a\\u0647\\u0627 \\u0625\\u0644\\u0649 7 .107 \\u0645\\u0644\\u064a\\u0648\\u0646 \\u062f\\u0631\\u0647\\u0645 \\u0645\\u062d\\u0635\\u0644\\u0629 \\u0628\\u064a\\u0639\\u060c \\u0648\\u0641\\u064a \\u0627\\u0644\\u0645\\u0642\\u0627\\u0628\\u0644 \\u0627\\u062a\\u062c\\u0647 \\u0627\\u0644\\u0645\\u0633\\u062a\\u062b\\u0645\\u0631\\u0648\\u0646 \\u0627\\u0644\\u0623\\u0641\\u0631\\u0627\\u062f \\u0646\\u062d\\u0648 \\u0634\\u0631\\u0627\\u0621 \\u0627\\u0644\\u0623\\u0633\\u0647\\u0645 \\u0628\\u0635\\u0627\\u0641\\u064a \\u0627\\u0633\\u062a\\u062b\\u0645\\u0627\\u0631 \\u0648\\u0635\\u0644 \\u0625\\u0644\\u0649 7 .107 \\u0645\\u0644\\u064a\\u0648\\u0646 \\u062f\\u0631\\u0647\\u0645 \\u0645\\u062d\\u0635\\u0644\\u0629 \\u0634\\u0631\\u0627\\u0621 . \\u0623\\u0633\\u0645\\u064a\\u0643 \\u064a\\u0631\\u0641\\u0636 \\u0639\\u0631\\u0636\\u0627\\u064b \\u0644\\u0628\\u064a\\u0639 \\u062c\\u0632\\u0621 \\u0645\\u0646 \\u062d\\u0635\\u062a\\u0647 \\u0641\\u064a \\\"\\u0623\\u0631\\u0627\\u0628\\u062a\\u0643\\\" \\u0628\\u0640 5 \\u062f\\u0631\\u0627\\u0647\\u0645 \\u0644\\u0644\\u0633\\u0647\\u0645 \\u0631\\u0641\\u0636 \\u062d\\u0633\\u0646 \\u0623\\u0633\\u0645\\u064a\\u0643\\u060c \\u0627\\u0644\\u0631\\u0626\\u064a\\u0633 \\u0627\\u0644\\u062a\\u0646\\u0641\\u064a\\u0630\\u064a \\u0627\\u0644\\u0633\\u0627\\u0628\\u0642 \\u0644\\u0634\\u0631\\u0643\\u0629 \\\"\\u0623\\u0631\\u0627\\u0628\\u062a\\u0643 \\u0627\\u0644\\u0642\\u0627\\u0628\\u0636\\u0629\\\" \\u0639\\u0631\\u0636\\u0627\\u064b \\u0645\\u0646 \\u0642\\u0628\\u0644 \\u0634\\u0631\\u0643\\u0629 \\\"\\u0622\\u0628\\u0627\\u0631 \\u0644\\u0644\\u0627\\u0633\\u062a\\u062b\\u0645\\u0627\\u0631\\\" \\u0644\\u0628\\u064a\\u0639 \\u062c\\u0632\\u0621 \\u0645\\u0646 \\u062d\\u0635\\u062a\\u0647 \\u0641\\u064a \\\"\\u0623\\u0631\\u0627\\u0628\\u062a\\u0643\\\" \\u0628\\u0642\\u064a\\u0645\\u0629 5 \\u062f\\u0631\\u0627\\u0647\\u0645 \\u0644\\u0644\\u0633\\u0647\\u0645 \\u0627\\u0644\\u0648\\u0627\\u062d\\u062f . \\u0648\\u0623\\u0648\\u0636\\u062d \\u0623\\u0633\\u0645\\u064a\\u0643 \\u0641\\u064a \\u0645\\u0642\\u0627\\u0628\\u0644\\u0629 \\u0647\\u0627\\u062a\\u0641\\u064a\\u0629 \\u0645\\u0639 \\\"\\u0628\\u0644\\u0648\\u0645\\u0628\\u064a\\u0631\\u063a\\\" \\u0623\\u0646 \\\"\\u0622\\u0628\\u0627\\u0631\\\" \\u0644\\u0627 \\u062a\\u0632\\u0627\\u0644 \\u062a\\u062a\\u0641\\u0627\\u0648\\u0636 \\u0645\\u0639\\u0647 \\u0644\\u0628\\u064a\\u0639 \\u0646\\u0635\\u0641 \\u062d\\u0635\\u062a\\u0647 \\u0641\\u064a \\u0627\\u0644\\u0634\\u0631\\u0643\\u0629\\u060c \\u0645\\u0634\\u064a\\u0631\\u0627\\u064b \\u0625\\u0644\\u0649 \\u0623\\u0646\\u0647 \\u064a\\u0633\\u0639\\u0649 \\u0625\\u0644\\u0649 \\u0628\\u064a\\u0639 \\u062d\\u0635\\u062a\\u0647 \\u0628\\u0633\\u0639\\u0631 \\u064a\\u0632\\u064a\\u062f \\u0639\\u0644\\u0649 5 \\u062f\\u0631\\u0627\\u0647\\u0645 \\u0644\\u0644\\u0633\\u0647\\u0645 .\\u0645\\u0646 \\u062c\\u0647\\u0629 \\u0623\\u062e\\u0631\\u0649\\u060c \\u0642\\u0627\\u0644 \\u062d\\u0633\\u0646 \\u0623\\u0633\\u0645\\u064a\\u0643 \\u0625\\u0646\\u0647 \\u064a\\u062c\\u0631\\u064a \\u0645\\u062d\\u0627\\u062f\\u062b\\u0627\\u062a \\u062d\\u0648\\u0644 \\u0628\\u064a\\u0639 \\u062c\\u0632\\u0621 \\u0645\\u0646 \\u062d\\u0635\\u062a\\u0647 \\u0627\\u0644\\u0628\\u0627\\u0644\\u063a\\u0629 9 .27% \\u0644\\u0635\\u0646\\u062f\\u0648\\u0642 \\u0622\\u0628\\u0627\\u0631 \\u0644\\u0644\\u0627\\u0633\\u062a\\u062b\\u0645\\u0627\\u0631\\u0627\\u062a \\u0641\\u064a \\u0623\\u0628\\u0648\\u0638\\u0628\\u064a \\u0648\\u064a\\u0631\\u064a\\u062f \\u0633\\u0639\\u0631\\u0627\\u064b \\u064a\\u062a\\u062c\\u0627\\u0648\\u0632 5 \\u062f\\u0631\\u0627\\u0647\\u0645 \\u0644\\u0644\\u0633\\u0647\\u0645\\u060c \\u0648\\u0647\\u0648 \\u0645\\u0627 \\u064a\\u0641\\u0648\\u0642 \\u0633\\u0639\\u0631 \\u0627\\u0644\\u0633\\u0648\\u0642 \\u0627\\u0644\\u062d\\u0627\\u0644\\u064a \\u0628\\u0646\\u062d\\u0648 4% .\\u0648\\u0642\\u0627\\u0644 \\u0644\\\"\\u0631\\u0648\\u064a\\u062a\\u0631\\u0632\\\" \\u0639\\u0628\\u0631 \\u0627\\u0644\\u0647\\u0627\\u062a\\u0641: \\\"\\u062e\\u0645\\u0633\\u0629 \\u062f\\u0631\\u0627\\u0647\\u0645 \\u0644\\u0644\\u0633\\u0647\\u0645 \\u0644\\u064a\\u0633\\u062a \\u0645\\u0642\\u0628\\u0648\\u0644\\u0629 \\u0628\\u0627\\u0644\\u0646\\u0633\\u0628\\u0629 \\u0625\\u0644\\u064a\\\" .\\u0648\\u0642\\u0641\\u0632 \\u0633\\u0639\\u0631 \\u0633\\u0647\\u0645 \\u0623\\u0631\\u0627\\u0628\\u062a\\u0643 13% \\u0625\\u0644\\u0649 97 .4 \\u062f\\u0631\\u0647\\u0645 \\u0641\\u064a \\u0627\\u0644\\u062c\\u0644\\u0633\\u0627\\u062a \\u0627\\u0644\\u0623\\u0631\\u0628\\u0639 \\u0627\\u0644\\u0623\\u062e\\u064a\\u0631\\u0629 .\"\n        ],\n        \"semantic_type\": \"\",\n        \"description\": \"\"\n      }\n    },\n    {\n      \"column\": \"label\",\n      \"properties\": {\n        \"dtype\": \"category\",\n        \"num_unique_values\": 3,\n        \"samples\": [\n          \"Culture\",\n          \"Finance\",\n          \"Medical\"\n        ],\n        \"semantic_type\": \"\",\n        \"description\": \"\"\n      }\n    }\n  ]\n}"
            }
          },
          "metadata": {},
          "execution_count": 10
        }
      ]
    },
    {
      "cell_type": "code",
      "source": [
        "df.info()"
      ],
      "metadata": {
        "colab": {
          "base_uri": "https://localhost:8080/"
        },
        "id": "7h1ojDbNOCt3",
        "outputId": "82e520be-890b-40c7-ca70-ff871e68869e"
      },
      "id": "7h1ojDbNOCt3",
      "execution_count": 11,
      "outputs": [
        {
          "output_type": "stream",
          "name": "stdout",
          "text": [
            "<class 'pandas.core.frame.DataFrame'>\n",
            "RangeIndex: 15000 entries, 0 to 14999\n",
            "Data columns (total 3 columns):\n",
            " #   Column      Non-Null Count  Dtype \n",
            "---  ------      --------------  ----- \n",
            " 0   Unnamed: 0  15000 non-null  int64 \n",
            " 1   text        15000 non-null  object\n",
            " 2   label       15000 non-null  object\n",
            "dtypes: int64(1), object(2)\n",
            "memory usage: 351.7+ KB\n"
          ]
        }
      ]
    },
    {
      "cell_type": "code",
      "source": [
        "df.describe()"
      ],
      "metadata": {
        "colab": {
          "base_uri": "https://localhost:8080/",
          "height": 300
        },
        "id": "FFnvngRvOszv",
        "outputId": "97691ce8-eaf1-47ae-839e-fe8b1e2dc810"
      },
      "id": "FFnvngRvOszv",
      "execution_count": 12,
      "outputs": [
        {
          "output_type": "execute_result",
          "data": {
            "text/plain": [
              "         Unnamed: 0\n",
              "count  15000.000000\n",
              "mean    7499.500000\n",
              "std     4330.271354\n",
              "min        0.000000\n",
              "25%     3749.750000\n",
              "50%     7499.500000\n",
              "75%    11249.250000\n",
              "max    14999.000000"
            ],
            "text/html": [
              "\n",
              "  <div id=\"df-266b2d4a-e5ae-4742-a504-0f4c90c326dc\" class=\"colab-df-container\">\n",
              "    <div>\n",
              "<style scoped>\n",
              "    .dataframe tbody tr th:only-of-type {\n",
              "        vertical-align: middle;\n",
              "    }\n",
              "\n",
              "    .dataframe tbody tr th {\n",
              "        vertical-align: top;\n",
              "    }\n",
              "\n",
              "    .dataframe thead th {\n",
              "        text-align: right;\n",
              "    }\n",
              "</style>\n",
              "<table border=\"1\" class=\"dataframe\">\n",
              "  <thead>\n",
              "    <tr style=\"text-align: right;\">\n",
              "      <th></th>\n",
              "      <th>Unnamed: 0</th>\n",
              "    </tr>\n",
              "  </thead>\n",
              "  <tbody>\n",
              "    <tr>\n",
              "      <th>count</th>\n",
              "      <td>15000.000000</td>\n",
              "    </tr>\n",
              "    <tr>\n",
              "      <th>mean</th>\n",
              "      <td>7499.500000</td>\n",
              "    </tr>\n",
              "    <tr>\n",
              "      <th>std</th>\n",
              "      <td>4330.271354</td>\n",
              "    </tr>\n",
              "    <tr>\n",
              "      <th>min</th>\n",
              "      <td>0.000000</td>\n",
              "    </tr>\n",
              "    <tr>\n",
              "      <th>25%</th>\n",
              "      <td>3749.750000</td>\n",
              "    </tr>\n",
              "    <tr>\n",
              "      <th>50%</th>\n",
              "      <td>7499.500000</td>\n",
              "    </tr>\n",
              "    <tr>\n",
              "      <th>75%</th>\n",
              "      <td>11249.250000</td>\n",
              "    </tr>\n",
              "    <tr>\n",
              "      <th>max</th>\n",
              "      <td>14999.000000</td>\n",
              "    </tr>\n",
              "  </tbody>\n",
              "</table>\n",
              "</div>\n",
              "    <div class=\"colab-df-buttons\">\n",
              "\n",
              "  <div class=\"colab-df-container\">\n",
              "    <button class=\"colab-df-convert\" onclick=\"convertToInteractive('df-266b2d4a-e5ae-4742-a504-0f4c90c326dc')\"\n",
              "            title=\"Convert this dataframe to an interactive table.\"\n",
              "            style=\"display:none;\">\n",
              "\n",
              "  <svg xmlns=\"http://www.w3.org/2000/svg\" height=\"24px\" viewBox=\"0 -960 960 960\">\n",
              "    <path d=\"M120-120v-720h720v720H120Zm60-500h600v-160H180v160Zm220 220h160v-160H400v160Zm0 220h160v-160H400v160ZM180-400h160v-160H180v160Zm440 0h160v-160H620v160ZM180-180h160v-160H180v160Zm440 0h160v-160H620v160Z\"/>\n",
              "  </svg>\n",
              "    </button>\n",
              "\n",
              "  <style>\n",
              "    .colab-df-container {\n",
              "      display:flex;\n",
              "      gap: 12px;\n",
              "    }\n",
              "\n",
              "    .colab-df-convert {\n",
              "      background-color: #E8F0FE;\n",
              "      border: none;\n",
              "      border-radius: 50%;\n",
              "      cursor: pointer;\n",
              "      display: none;\n",
              "      fill: #1967D2;\n",
              "      height: 32px;\n",
              "      padding: 0 0 0 0;\n",
              "      width: 32px;\n",
              "    }\n",
              "\n",
              "    .colab-df-convert:hover {\n",
              "      background-color: #E2EBFA;\n",
              "      box-shadow: 0px 1px 2px rgba(60, 64, 67, 0.3), 0px 1px 3px 1px rgba(60, 64, 67, 0.15);\n",
              "      fill: #174EA6;\n",
              "    }\n",
              "\n",
              "    .colab-df-buttons div {\n",
              "      margin-bottom: 4px;\n",
              "    }\n",
              "\n",
              "    [theme=dark] .colab-df-convert {\n",
              "      background-color: #3B4455;\n",
              "      fill: #D2E3FC;\n",
              "    }\n",
              "\n",
              "    [theme=dark] .colab-df-convert:hover {\n",
              "      background-color: #434B5C;\n",
              "      box-shadow: 0px 1px 3px 1px rgba(0, 0, 0, 0.15);\n",
              "      filter: drop-shadow(0px 1px 2px rgba(0, 0, 0, 0.3));\n",
              "      fill: #FFFFFF;\n",
              "    }\n",
              "  </style>\n",
              "\n",
              "    <script>\n",
              "      const buttonEl =\n",
              "        document.querySelector('#df-266b2d4a-e5ae-4742-a504-0f4c90c326dc button.colab-df-convert');\n",
              "      buttonEl.style.display =\n",
              "        google.colab.kernel.accessAllowed ? 'block' : 'none';\n",
              "\n",
              "      async function convertToInteractive(key) {\n",
              "        const element = document.querySelector('#df-266b2d4a-e5ae-4742-a504-0f4c90c326dc');\n",
              "        const dataTable =\n",
              "          await google.colab.kernel.invokeFunction('convertToInteractive',\n",
              "                                                    [key], {});\n",
              "        if (!dataTable) return;\n",
              "\n",
              "        const docLinkHtml = 'Like what you see? Visit the ' +\n",
              "          '<a target=\"_blank\" href=https://colab.research.google.com/notebooks/data_table.ipynb>data table notebook</a>'\n",
              "          + ' to learn more about interactive tables.';\n",
              "        element.innerHTML = '';\n",
              "        dataTable['output_type'] = 'display_data';\n",
              "        await google.colab.output.renderOutput(dataTable, element);\n",
              "        const docLink = document.createElement('div');\n",
              "        docLink.innerHTML = docLinkHtml;\n",
              "        element.appendChild(docLink);\n",
              "      }\n",
              "    </script>\n",
              "  </div>\n",
              "\n",
              "\n",
              "<div id=\"df-5d9b122f-c686-4ec5-aa51-281b88e8ab3c\">\n",
              "  <button class=\"colab-df-quickchart\" onclick=\"quickchart('df-5d9b122f-c686-4ec5-aa51-281b88e8ab3c')\"\n",
              "            title=\"Suggest charts\"\n",
              "            style=\"display:none;\">\n",
              "\n",
              "<svg xmlns=\"http://www.w3.org/2000/svg\" height=\"24px\"viewBox=\"0 0 24 24\"\n",
              "     width=\"24px\">\n",
              "    <g>\n",
              "        <path d=\"M19 3H5c-1.1 0-2 .9-2 2v14c0 1.1.9 2 2 2h14c1.1 0 2-.9 2-2V5c0-1.1-.9-2-2-2zM9 17H7v-7h2v7zm4 0h-2V7h2v10zm4 0h-2v-4h2v4z\"/>\n",
              "    </g>\n",
              "</svg>\n",
              "  </button>\n",
              "\n",
              "<style>\n",
              "  .colab-df-quickchart {\n",
              "      --bg-color: #E8F0FE;\n",
              "      --fill-color: #1967D2;\n",
              "      --hover-bg-color: #E2EBFA;\n",
              "      --hover-fill-color: #174EA6;\n",
              "      --disabled-fill-color: #AAA;\n",
              "      --disabled-bg-color: #DDD;\n",
              "  }\n",
              "\n",
              "  [theme=dark] .colab-df-quickchart {\n",
              "      --bg-color: #3B4455;\n",
              "      --fill-color: #D2E3FC;\n",
              "      --hover-bg-color: #434B5C;\n",
              "      --hover-fill-color: #FFFFFF;\n",
              "      --disabled-bg-color: #3B4455;\n",
              "      --disabled-fill-color: #666;\n",
              "  }\n",
              "\n",
              "  .colab-df-quickchart {\n",
              "    background-color: var(--bg-color);\n",
              "    border: none;\n",
              "    border-radius: 50%;\n",
              "    cursor: pointer;\n",
              "    display: none;\n",
              "    fill: var(--fill-color);\n",
              "    height: 32px;\n",
              "    padding: 0;\n",
              "    width: 32px;\n",
              "  }\n",
              "\n",
              "  .colab-df-quickchart:hover {\n",
              "    background-color: var(--hover-bg-color);\n",
              "    box-shadow: 0 1px 2px rgba(60, 64, 67, 0.3), 0 1px 3px 1px rgba(60, 64, 67, 0.15);\n",
              "    fill: var(--button-hover-fill-color);\n",
              "  }\n",
              "\n",
              "  .colab-df-quickchart-complete:disabled,\n",
              "  .colab-df-quickchart-complete:disabled:hover {\n",
              "    background-color: var(--disabled-bg-color);\n",
              "    fill: var(--disabled-fill-color);\n",
              "    box-shadow: none;\n",
              "  }\n",
              "\n",
              "  .colab-df-spinner {\n",
              "    border: 2px solid var(--fill-color);\n",
              "    border-color: transparent;\n",
              "    border-bottom-color: var(--fill-color);\n",
              "    animation:\n",
              "      spin 1s steps(1) infinite;\n",
              "  }\n",
              "\n",
              "  @keyframes spin {\n",
              "    0% {\n",
              "      border-color: transparent;\n",
              "      border-bottom-color: var(--fill-color);\n",
              "      border-left-color: var(--fill-color);\n",
              "    }\n",
              "    20% {\n",
              "      border-color: transparent;\n",
              "      border-left-color: var(--fill-color);\n",
              "      border-top-color: var(--fill-color);\n",
              "    }\n",
              "    30% {\n",
              "      border-color: transparent;\n",
              "      border-left-color: var(--fill-color);\n",
              "      border-top-color: var(--fill-color);\n",
              "      border-right-color: var(--fill-color);\n",
              "    }\n",
              "    40% {\n",
              "      border-color: transparent;\n",
              "      border-right-color: var(--fill-color);\n",
              "      border-top-color: var(--fill-color);\n",
              "    }\n",
              "    60% {\n",
              "      border-color: transparent;\n",
              "      border-right-color: var(--fill-color);\n",
              "    }\n",
              "    80% {\n",
              "      border-color: transparent;\n",
              "      border-right-color: var(--fill-color);\n",
              "      border-bottom-color: var(--fill-color);\n",
              "    }\n",
              "    90% {\n",
              "      border-color: transparent;\n",
              "      border-bottom-color: var(--fill-color);\n",
              "    }\n",
              "  }\n",
              "</style>\n",
              "\n",
              "  <script>\n",
              "    async function quickchart(key) {\n",
              "      const quickchartButtonEl =\n",
              "        document.querySelector('#' + key + ' button');\n",
              "      quickchartButtonEl.disabled = true;  // To prevent multiple clicks.\n",
              "      quickchartButtonEl.classList.add('colab-df-spinner');\n",
              "      try {\n",
              "        const charts = await google.colab.kernel.invokeFunction(\n",
              "            'suggestCharts', [key], {});\n",
              "      } catch (error) {\n",
              "        console.error('Error during call to suggestCharts:', error);\n",
              "      }\n",
              "      quickchartButtonEl.classList.remove('colab-df-spinner');\n",
              "      quickchartButtonEl.classList.add('colab-df-quickchart-complete');\n",
              "    }\n",
              "    (() => {\n",
              "      let quickchartButtonEl =\n",
              "        document.querySelector('#df-5d9b122f-c686-4ec5-aa51-281b88e8ab3c button');\n",
              "      quickchartButtonEl.style.display =\n",
              "        google.colab.kernel.accessAllowed ? 'block' : 'none';\n",
              "    })();\n",
              "  </script>\n",
              "</div>\n",
              "\n",
              "    </div>\n",
              "  </div>\n"
            ],
            "application/vnd.google.colaboratory.intrinsic+json": {
              "type": "dataframe",
              "summary": "{\n  \"name\": \"df\",\n  \"rows\": 8,\n  \"fields\": [\n    {\n      \"column\": \"Unnamed: 0\",\n      \"properties\": {\n        \"dtype\": \"number\",\n        \"std\": 5405.853601715411,\n        \"min\": 0.0,\n        \"max\": 15000.0,\n        \"num_unique_values\": 7,\n        \"samples\": [\n          15000.0,\n          7499.5,\n          11249.25\n        ],\n        \"semantic_type\": \"\",\n        \"description\": \"\"\n      }\n    }\n  ]\n}"
            }
          },
          "metadata": {},
          "execution_count": 12
        }
      ]
    },
    {
      "cell_type": "code",
      "source": [
        "df.isnull().sum()"
      ],
      "metadata": {
        "colab": {
          "base_uri": "https://localhost:8080/",
          "height": 178
        },
        "id": "tTddWLBvOvvG",
        "outputId": "831586d0-c237-47ad-f42e-dc6c906b12db"
      },
      "id": "tTddWLBvOvvG",
      "execution_count": 13,
      "outputs": [
        {
          "output_type": "execute_result",
          "data": {
            "text/plain": [
              "Unnamed: 0    0\n",
              "text          0\n",
              "label         0\n",
              "dtype: int64"
            ],
            "text/html": [
              "<div>\n",
              "<style scoped>\n",
              "    .dataframe tbody tr th:only-of-type {\n",
              "        vertical-align: middle;\n",
              "    }\n",
              "\n",
              "    .dataframe tbody tr th {\n",
              "        vertical-align: top;\n",
              "    }\n",
              "\n",
              "    .dataframe thead th {\n",
              "        text-align: right;\n",
              "    }\n",
              "</style>\n",
              "<table border=\"1\" class=\"dataframe\">\n",
              "  <thead>\n",
              "    <tr style=\"text-align: right;\">\n",
              "      <th></th>\n",
              "      <th>0</th>\n",
              "    </tr>\n",
              "  </thead>\n",
              "  <tbody>\n",
              "    <tr>\n",
              "      <th>Unnamed: 0</th>\n",
              "      <td>0</td>\n",
              "    </tr>\n",
              "    <tr>\n",
              "      <th>text</th>\n",
              "      <td>0</td>\n",
              "    </tr>\n",
              "    <tr>\n",
              "      <th>label</th>\n",
              "      <td>0</td>\n",
              "    </tr>\n",
              "  </tbody>\n",
              "</table>\n",
              "</div><br><label><b>dtype:</b> int64</label>"
            ]
          },
          "metadata": {},
          "execution_count": 13
        }
      ]
    },
    {
      "cell_type": "code",
      "source": [
        "df.duplicated().sum()"
      ],
      "metadata": {
        "colab": {
          "base_uri": "https://localhost:8080/"
        },
        "id": "WKMOMoJjO0i2",
        "outputId": "0d6d865f-a9d8-45f5-f584-930268ea1706"
      },
      "id": "WKMOMoJjO0i2",
      "execution_count": 16,
      "outputs": [
        {
          "output_type": "execute_result",
          "data": {
            "text/plain": [
              "6"
            ]
          },
          "metadata": {},
          "execution_count": 16
        }
      ]
    },
    {
      "cell_type": "code",
      "source": [
        "df.drop_duplicates(inplace=True)"
      ],
      "metadata": {
        "id": "qD2yMexQO23h"
      },
      "id": "qD2yMexQO23h",
      "execution_count": 17,
      "outputs": []
    },
    {
      "cell_type": "code",
      "source": [
        "df.duplicated().sum()"
      ],
      "metadata": {
        "colab": {
          "base_uri": "https://localhost:8080/"
        },
        "id": "DhhdaBniO7Vr",
        "outputId": "34904d7c-492b-48b4-fc93-925b85128420"
      },
      "id": "DhhdaBniO7Vr",
      "execution_count": 18,
      "outputs": [
        {
          "output_type": "execute_result",
          "data": {
            "text/plain": [
              "0"
            ]
          },
          "metadata": {},
          "execution_count": 18
        }
      ]
    },
    {
      "cell_type": "code",
      "source": [
        "df['label'].value_counts()"
      ],
      "metadata": {
        "colab": {
          "base_uri": "https://localhost:8080/",
          "height": 209
        },
        "id": "rWPwPVwAol3Z",
        "outputId": "f0686cb2-7d41-4cd7-adc4-d8cd62c344a6"
      },
      "id": "rWPwPVwAol3Z",
      "execution_count": 14,
      "outputs": [
        {
          "output_type": "execute_result",
          "data": {
            "text/plain": [
              "label\n",
              "Culture    6500\n",
              "Finance    6500\n",
              "Medical    2000\n",
              "Name: count, dtype: int64"
            ],
            "text/html": [
              "<div>\n",
              "<style scoped>\n",
              "    .dataframe tbody tr th:only-of-type {\n",
              "        vertical-align: middle;\n",
              "    }\n",
              "\n",
              "    .dataframe tbody tr th {\n",
              "        vertical-align: top;\n",
              "    }\n",
              "\n",
              "    .dataframe thead th {\n",
              "        text-align: right;\n",
              "    }\n",
              "</style>\n",
              "<table border=\"1\" class=\"dataframe\">\n",
              "  <thead>\n",
              "    <tr style=\"text-align: right;\">\n",
              "      <th></th>\n",
              "      <th>count</th>\n",
              "    </tr>\n",
              "    <tr>\n",
              "      <th>label</th>\n",
              "      <th></th>\n",
              "    </tr>\n",
              "  </thead>\n",
              "  <tbody>\n",
              "    <tr>\n",
              "      <th>Culture</th>\n",
              "      <td>6500</td>\n",
              "    </tr>\n",
              "    <tr>\n",
              "      <th>Finance</th>\n",
              "      <td>6500</td>\n",
              "    </tr>\n",
              "    <tr>\n",
              "      <th>Medical</th>\n",
              "      <td>2000</td>\n",
              "    </tr>\n",
              "  </tbody>\n",
              "</table>\n",
              "</div><br><label><b>dtype:</b> int64</label>"
            ]
          },
          "metadata": {},
          "execution_count": 14
        }
      ]
    },
    {
      "cell_type": "markdown",
      "id": "d87ddcd5",
      "metadata": {
        "id": "d87ddcd5"
      },
      "source": [
        "## Step 2: Clean Unnecessary Columns"
      ]
    },
    {
      "cell_type": "code",
      "source": [
        "df = df[['text', 'label']]"
      ],
      "metadata": {
        "id": "5P8Aqo_WNrSc"
      },
      "id": "5P8Aqo_WNrSc",
      "execution_count": 15,
      "outputs": []
    },
    {
      "cell_type": "code",
      "source": [],
      "metadata": {
        "id": "IcUSOuookVvr"
      },
      "id": "IcUSOuookVvr",
      "execution_count": null,
      "outputs": []
    },
    {
      "cell_type": "markdown",
      "source": [],
      "metadata": {
        "id": "9F-rvyyWKDxL"
      },
      "id": "9F-rvyyWKDxL"
    },
    {
      "cell_type": "markdown",
      "id": "bb10d4d4",
      "metadata": {
        "id": "bb10d4d4"
      },
      "source": [
        "Remove any columns from the dataset that are not needed for training."
      ]
    },
    {
      "cell_type": "markdown",
      "source": [],
      "metadata": {
        "id": "hMoqpW4BVWwS"
      },
      "id": "hMoqpW4BVWwS"
    },
    {
      "cell_type": "markdown",
      "id": "790b4a9e",
      "metadata": {
        "id": "790b4a9e"
      },
      "source": [
        "## Step 3: Splitting the Dataset"
      ]
    },
    {
      "cell_type": "markdown",
      "id": "66c8c1f4",
      "metadata": {
        "id": "66c8c1f4"
      },
      "source": [
        "Split the dataset into training and testing sets, ensuring that 20% of the data is used for testing."
      ]
    },
    {
      "cell_type": "code",
      "source": [
        "#train_df, test_df = train_test_split(df, test_size=0.2, random_state=42)\n",
        "\n",
        "#print(f\"Training set size: {len(train_df)}\")\n",
        "#print(f\"Testing set size: {len(test_df)}\")"
      ],
      "metadata": {
        "id": "l-XwEcczthuZ"
      },
      "id": "l-XwEcczthuZ",
      "execution_count": null,
      "outputs": []
    },
    {
      "cell_type": "code",
      "execution_count": 45,
      "id": "3f839fea",
      "metadata": {
        "id": "3f839fea"
      },
      "outputs": [],
      "source": [
        "train, test = train_test_split(df, test_size=0.2, random_state=42)\n",
        "tokenizer_data = ds.map(preprocess_data, batched=True, remove_columns=[\"Unnamed: 0\"])\n"
      ]
    },
    {
      "cell_type": "markdown",
      "id": "091d3694",
      "metadata": {
        "id": "091d3694"
      },
      "source": [
        "## Step 4: Tokenizing the Data"
      ]
    },
    {
      "cell_type": "markdown",
      "id": "c6418768",
      "metadata": {
        "id": "c6418768"
      },
      "source": [
        "Initialize a tokenizer for the model."
      ]
    },
    {
      "cell_type": "code",
      "execution_count": 18,
      "id": "89a28bfc",
      "metadata": {
        "colab": {
          "base_uri": "https://localhost:8080/"
        },
        "id": "89a28bfc",
        "outputId": "90103058-813e-473e-e01b-e93334964572"
      },
      "outputs": [
        {
          "output_type": "stream",
          "name": "stderr",
          "text": [
            "/usr/local/lib/python3.10/dist-packages/transformers/tokenization_utils_base.py:1601: FutureWarning: `clean_up_tokenization_spaces` was not set. It will be set to `True` by default. This behavior will be depracted in transformers v4.45, and will be then set to `False` by default. For more details check this issue: https://github.com/huggingface/transformers/issues/31884\n",
            "  warnings.warn(\n",
            "Some weights of the model checkpoint at aubmindlab/bert-base-arabertv02 were not used when initializing BertForMaskedLM: ['bert.pooler.dense.bias', 'bert.pooler.dense.weight', 'cls.seq_relationship.bias', 'cls.seq_relationship.weight']\n",
            "- This IS expected if you are initializing BertForMaskedLM from the checkpoint of a model trained on another task or with another architecture (e.g. initializing a BertForSequenceClassification model from a BertForPreTraining model).\n",
            "- This IS NOT expected if you are initializing BertForMaskedLM from the checkpoint of a model that you expect to be exactly identical (initializing a BertForSequenceClassification model from a BertForSequenceClassification model).\n"
          ]
        }
      ],
      "source": [
        "from transformers import AutoTokenizer, AutoModelForMaskedLM\n",
        "\n",
        "tokenizer = AutoTokenizer.from_pretrained(\"aubmindlab/bert-base-arabertv02\")\n",
        "model = AutoModelForMaskedLM.from_pretrained(\"aubmindlab/bert-base-arabertv02\")"
      ]
    },
    {
      "cell_type": "markdown",
      "id": "89500748",
      "metadata": {
        "id": "89500748"
      },
      "source": [
        "## Step 5: Preprocessing the Text"
      ]
    },
    {
      "cell_type": "markdown",
      "id": "30bd6fab",
      "metadata": {
        "id": "30bd6fab"
      },
      "source": [
        "Map the tokenization function to the dataset. Ensure the text data is processed using truncation to handle sequences that exceed the model's input size. Please do any further preprocessing.\n",
        "\n",
        "**Bonus**: If you performed more comprehensive preprocessing, such as removing links, converting text to lowercase, or applying additional preprocessing techniques."
      ]
    },
    {
      "cell_type": "code",
      "source": [
        "def preprocess_data(sentences):\n",
        "    inputs = tokenizer(sentences['text'], truncation=True, padding='max_length', max_length=512, return_tensors='pt')\n",
        "    inputs['labels'] = inputs['input_ids'].clone()\n",
        "    inputs['label'] = sentences['label']\n",
        "    return inputs"
      ],
      "metadata": {
        "id": "YV01LC0FyBFK"
      },
      "id": "YV01LC0FyBFK",
      "execution_count": 43,
      "outputs": []
    },
    {
      "cell_type": "code",
      "source": [
        "def preprocess_data(sentences):\n",
        "    inputs = tokenizer(sentences['text'], truncation=True, padding='max_length', max_length=512, return_tensors='pt')\n",
        "    inputs['labels'] = inputs['input_ids'].clone()\n",
        "\n",
        "    if isinstance(sentences['label'][0], str):\n",
        "        unique_labels = set(sentences['label'])\n",
        "        label_map = {label: i for i, label in enumerate(unique_labels)}\n",
        "        inputs['label'] = [label_map[l] for l in sentences['label']]\n",
        "    else:\n",
        "        inputs['label'] = sentences['label']\n",
        "    return inputs"
      ],
      "metadata": {
        "id": "jNOHAV3epLXK"
      },
      "id": "jNOHAV3epLXK",
      "execution_count": 44,
      "outputs": []
    },
    {
      "cell_type": "code",
      "source": [
        "tokenizer_data = ds.map(preprocess_data, batched=True, remove_columns=[\"Unnamed: 0\"])"
      ],
      "metadata": {
        "id": "KpJQPwGEz9vL"
      },
      "id": "KpJQPwGEz9vL",
      "execution_count": 40,
      "outputs": []
    },
    {
      "cell_type": "markdown",
      "id": "5f05ad70",
      "metadata": {
        "id": "5f05ad70"
      },
      "source": [
        "### Step 6: Label Encoding"
      ]
    },
    {
      "cell_type": "code",
      "source": [
        "encoder = LabelEncoder()\n",
        "df['label'] = encoder.fit_transform(df['label'])\n"
      ],
      "metadata": {
        "id": "KbhIF7sL90Zg"
      },
      "id": "KbhIF7sL90Zg",
      "execution_count": null,
      "outputs": []
    },
    {
      "cell_type": "markdown",
      "id": "87441817",
      "metadata": {
        "id": "87441817"
      },
      "source": [
        "Convert the categorical labels into numerical format using a label encoder if needed."
      ]
    },
    {
      "cell_type": "markdown",
      "id": "2c2cde80",
      "metadata": {
        "id": "2c2cde80"
      },
      "source": [
        "### Step 7: Data Collation for Padding"
      ]
    },
    {
      "cell_type": "markdown",
      "id": "130522fd",
      "metadata": {
        "id": "130522fd"
      },
      "source": [
        "Prepare the data for training by ensuring all sequences in a batch are padded to the same length. Use a data collator to handle dynamic padding."
      ]
    },
    {
      "cell_type": "code",
      "execution_count": 48,
      "id": "fe5832f9",
      "metadata": {
        "id": "fe5832f9"
      },
      "outputs": [],
      "source": []
    },
    {
      "cell_type": "markdown",
      "id": "08125f2b",
      "metadata": {
        "id": "08125f2b"
      },
      "source": [
        "### Step 8: Model Initialization"
      ]
    },
    {
      "cell_type": "markdown",
      "id": "a209e8e8",
      "metadata": {
        "id": "a209e8e8"
      },
      "source": [
        "Initialize a sequence classification model using the BERT-based architecture. Set the the right amount of output labels."
      ]
    },
    {
      "cell_type": "code",
      "source": [],
      "metadata": {
        "id": "fdSWzEWfo9fq"
      },
      "id": "fdSWzEWfo9fq",
      "execution_count": null,
      "outputs": []
    },
    {
      "cell_type": "markdown",
      "id": "c662a02e",
      "metadata": {
        "id": "c662a02e"
      },
      "source": [
        "## Step 9: Training Arguments"
      ]
    },
    {
      "cell_type": "markdown",
      "id": "fc922a37",
      "metadata": {
        "id": "fc922a37"
      },
      "source": [
        "Define the training arguments, including parameters such as learning rate, batch size, number of epochs, and weight decay."
      ]
    },
    {
      "cell_type": "code",
      "source": [
        "!pip install transformers\n",
        "from transformers import Trainer # import Trainer object from transformers library\n",
        "\n",
        "training_args = TrainingArguments(\n",
        "    output_dir='./results',\n",
        "    evaluation_strategy=\"no\",\n",
        "    learning_rate=3e-5,\n",
        "    per_device_train_batch_size=8,\n",
        "    num_train_epochs=1\n",
        ")\n",
        "\n",
        "trainer = Trainer(\n",
        "    model=model,\n",
        "    args=training_args,\n",
        "    train_dataset=tokenizer_data['train'],\n",
        ")"
      ],
      "metadata": {
        "colab": {
          "base_uri": "https://localhost:8080/"
        },
        "id": "OdHzTKPN0zBF",
        "outputId": "c26a764c-b657-4f1a-9f82-51f9e1216860"
      },
      "id": "OdHzTKPN0zBF",
      "execution_count": 47,
      "outputs": [
        {
          "output_type": "stream",
          "name": "stdout",
          "text": [
            "Requirement already satisfied: transformers in /usr/local/lib/python3.10/dist-packages (4.44.2)\n",
            "Requirement already satisfied: filelock in /usr/local/lib/python3.10/dist-packages (from transformers) (3.16.0)\n",
            "Requirement already satisfied: huggingface-hub<1.0,>=0.23.2 in /usr/local/lib/python3.10/dist-packages (from transformers) (0.24.6)\n",
            "Requirement already satisfied: numpy>=1.17 in /usr/local/lib/python3.10/dist-packages (from transformers) (1.26.4)\n",
            "Requirement already satisfied: packaging>=20.0 in /usr/local/lib/python3.10/dist-packages (from transformers) (24.1)\n",
            "Requirement already satisfied: pyyaml>=5.1 in /usr/local/lib/python3.10/dist-packages (from transformers) (6.0.2)\n",
            "Requirement already satisfied: regex!=2019.12.17 in /usr/local/lib/python3.10/dist-packages (from transformers) (2024.5.15)\n",
            "Requirement already satisfied: requests in /usr/local/lib/python3.10/dist-packages (from transformers) (2.32.3)\n",
            "Requirement already satisfied: safetensors>=0.4.1 in /usr/local/lib/python3.10/dist-packages (from transformers) (0.4.5)\n",
            "Requirement already satisfied: tokenizers<0.20,>=0.19 in /usr/local/lib/python3.10/dist-packages (from transformers) (0.19.1)\n",
            "Requirement already satisfied: tqdm>=4.27 in /usr/local/lib/python3.10/dist-packages (from transformers) (4.66.5)\n",
            "Requirement already satisfied: fsspec>=2023.5.0 in /usr/local/lib/python3.10/dist-packages (from huggingface-hub<1.0,>=0.23.2->transformers) (2024.6.1)\n",
            "Requirement already satisfied: typing-extensions>=3.7.4.3 in /usr/local/lib/python3.10/dist-packages (from huggingface-hub<1.0,>=0.23.2->transformers) (4.12.2)\n",
            "Requirement already satisfied: charset-normalizer<4,>=2 in /usr/local/lib/python3.10/dist-packages (from requests->transformers) (3.3.2)\n",
            "Requirement already satisfied: idna<4,>=2.5 in /usr/local/lib/python3.10/dist-packages (from requests->transformers) (3.8)\n",
            "Requirement already satisfied: urllib3<3,>=1.21.1 in /usr/local/lib/python3.10/dist-packages (from requests->transformers) (2.0.7)\n",
            "Requirement already satisfied: certifi>=2017.4.17 in /usr/local/lib/python3.10/dist-packages (from requests->transformers) (2024.8.30)\n"
          ]
        },
        {
          "output_type": "stream",
          "name": "stderr",
          "text": [
            "/usr/local/lib/python3.10/dist-packages/transformers/training_args.py:1525: FutureWarning: `evaluation_strategy` is deprecated and will be removed in version 4.46 of 🤗 Transformers. Use `eval_strategy` instead\n",
            "  warnings.warn(\n"
          ]
        }
      ]
    },
    {
      "cell_type": "markdown",
      "id": "74aabddb",
      "metadata": {
        "id": "74aabddb"
      },
      "source": [
        "## Step 10: Trainer Initialization and Training"
      ]
    },
    {
      "cell_type": "markdown",
      "id": "3d3b4bf5",
      "metadata": {
        "id": "3d3b4bf5"
      },
      "source": [
        "Set up the trainer with the model, training arguments, dataset, tokenizer, and data collator. Train the model using the dataset you processed earlier."
      ]
    },
    {
      "cell_type": "code",
      "execution_count": null,
      "id": "a2c24838",
      "metadata": {
        "colab": {
          "base_uri": "https://localhost:8080/",
          "height": 75
        },
        "id": "a2c24838",
        "outputId": "006cf34f-36f5-4fce-996b-f7414037cc82"
      },
      "outputs": [
        {
          "output_type": "display_data",
          "data": {
            "text/plain": [
              "<IPython.core.display.HTML object>"
            ],
            "text/html": [
              "\n",
              "    <div>\n",
              "      \n",
              "      <progress value='2' max='1875' style='width:300px; height:20px; vertical-align: middle;'></progress>\n",
              "      [   2/1875 : < :, Epoch 0.00/1]\n",
              "    </div>\n",
              "    <table border=\"1\" class=\"dataframe\">\n",
              "  <thead>\n",
              " <tr style=\"text-align: left;\">\n",
              "      <th>Step</th>\n",
              "      <th>Training Loss</th>\n",
              "    </tr>\n",
              "  </thead>\n",
              "  <tbody>\n",
              "  </tbody>\n",
              "</table><p>"
            ]
          },
          "metadata": {}
        }
      ],
      "source": [
        "trainer.train()"
      ]
    },
    {
      "cell_type": "code",
      "source": [],
      "metadata": {
        "id": "lxw5K7bYz2y9"
      },
      "id": "lxw5K7bYz2y9",
      "execution_count": null,
      "outputs": []
    },
    {
      "cell_type": "markdown",
      "id": "9b7e59cb",
      "metadata": {
        "id": "9b7e59cb"
      },
      "source": [
        "## Step 11: Inference"
      ]
    },
    {
      "cell_type": "markdown",
      "id": "0c5ed70c",
      "metadata": {
        "id": "0c5ed70c"
      },
      "source": [
        "Once the model is trained, perform inference on a sample text to evaluate the model's prediction capabilities. Use the tokenizer to process the text, and then feed it into the model to get the predicted label."
      ]
    },
    {
      "cell_type": "code",
      "execution_count": null,
      "id": "0d90a5b5",
      "metadata": {
        "id": "0d90a5b5"
      },
      "outputs": [],
      "source": [
        "from transformers import pipeline\n",
        "sentiment_analyzer = pipeline(\"sentiment-analysis\", model=\"aubmindlab/bert-base-arabertv02\")"
      ]
    },
    {
      "cell_type": "code",
      "source": [
        "text='وفي كثير من الحالات، تكون الطفرات الوراثية في الجين الذي ينتج البروتين المعني هي العامل المسبب لمرض شاركو. لكن هذه الطفرات يمكن أن تحدث أيضا حتى من دون وجود تاريخ عائلي مرتبط بالمرض'\n",
        "result = sentiment_analyzer(text)\n",
        "print(result)"
      ],
      "metadata": {
        "id": "yflpLRR8602u"
      },
      "id": "yflpLRR8602u",
      "execution_count": null,
      "outputs": []
    }
  ],
  "metadata": {
    "language_info": {
      "name": "python"
    },
    "colab": {
      "provenance": [],
      "include_colab_link": true
    },
    "kernelspec": {
      "name": "python3",
      "display_name": "Python 3"
    }
  },
  "nbformat": 4,
  "nbformat_minor": 5
}